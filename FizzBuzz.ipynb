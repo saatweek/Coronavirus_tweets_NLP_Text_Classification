{
  "nbformat": 4,
  "nbformat_minor": 0,
  "metadata": {
    "colab": {
      "name": "FizzBuzz.ipynb",
      "provenance": [],
      "authorship_tag": "ABX9TyNyWVy7ysifrWAR/Viar8Er",
      "include_colab_link": true
    },
    "kernelspec": {
      "name": "python3",
      "display_name": "Python 3"
    }
  },
  "cells": [
    {
      "cell_type": "markdown",
      "metadata": {
        "id": "view-in-github",
        "colab_type": "text"
      },
      "source": [
        "<a href=\"https://colab.research.google.com/github/saatweek/Coronavirus_tweets_NLP_Text_Classification/blob/master/FizzBuzz.ipynb\" target=\"_parent\"><img src=\"https://colab.research.google.com/assets/colab-badge.svg\" alt=\"Open In Colab\"/></a>"
      ]
    },
    {
      "cell_type": "markdown",
      "metadata": {
        "id": "F6syxp8N0WvS"
      },
      "source": [
        "# FizzBuzz\r\n",
        "FizzBuzz is a game where you print (or say out loud (if you're playing it irl)) the numbers as usual, but whenever the number is divisible by 3, you say \"Fizz\" instead of the number, and whenever the number is divisible by 5, you say \"Buzz\", and when the number is divisible by both, you say \"FizzBuzz\" \r\n",
        "\r\n",
        "So, If you have to count till 20, you'll say :\r\n",
        "\r\n",
        "1 <br />\r\n",
        "2 <br />\r\n",
        "Fizz <br />\r\n",
        "4 <br />\r\n",
        "Buzz <br />\r\n",
        "Fizz <br />\r\n",
        "7 <br />\r\n",
        "8 <br />\r\n",
        "Fizz <br />\r\n",
        "Buzz <br />\r\n",
        "11 <br />\r\n",
        "Fizz <br />\r\n",
        "13 <br />\r\n",
        "14 <br />\r\n",
        "FizzBuzz <br />\r\n",
        "16 <br />\r\n",
        "17 <br />\r\n",
        "Fizz <br />\r\n",
        "19 <br />\r\n",
        "Buzz <br />\r\n",
        "\r\n",
        "Get the point?\r\n",
        "\r\n",
        "Let's get to coding!\r\n",
        "\r\n"
      ]
    },
    {
      "cell_type": "code",
      "metadata": {
        "colab": {
          "base_uri": "https://localhost:8080/"
        },
        "id": "a09SkVT70Lif",
        "outputId": "ff4bad5d-c4d1-4964-e17e-3ef37e3f0ec6"
      },
      "source": [
        "# The first instint \r\n",
        "for num in range(1, 21):\r\n",
        "    if (num%3==0):\r\n",
        "        print('Fizz')\r\n",
        "    elif (num%5==0):\r\n",
        "        print('Buzz')\r\n",
        "    elif (num%3==0 and num%5==0):\r\n",
        "        print('FizzBuzz')\r\n",
        "    else:\r\n",
        "        print(num)"
      ],
      "execution_count": 1,
      "outputs": [
        {
          "output_type": "stream",
          "text": [
            "1\n",
            "2\n",
            "Fizz\n",
            "4\n",
            "Buzz\n",
            "Fizz\n",
            "7\n",
            "8\n",
            "Fizz\n",
            "Buzz\n",
            "11\n",
            "Fizz\n",
            "13\n",
            "14\n",
            "Fizz\n",
            "16\n",
            "17\n",
            "Fizz\n",
            "19\n",
            "Buzz\n"
          ],
          "name": "stdout"
        }
      ]
    },
    {
      "cell_type": "markdown",
      "metadata": {
        "id": "G0iYvHvF2F35"
      },
      "source": [
        "But this doesn't quite work. <br /> \r\n",
        "See, in place of 15, where there should've been \"FizzBuzz\", we only have \"Fizz\". <br />\r\n",
        "That's because, once the first condition is satisfied (i.e., if 15 is divisible by 3), the conditional prints \"Fizz\", then breaks out of the loop. it doesn't check for the divisibility with 5, or the condition after that. <br />\r\n",
        "But it's easy to solve, we can just rearrange the conditions"
      ]
    },
    {
      "cell_type": "code",
      "metadata": {
        "colab": {
          "base_uri": "https://localhost:8080/"
        },
        "id": "OUAtHwPB1_sa",
        "outputId": "13f48d96-14ca-4bb0-eef7-7969bbf769d4"
      },
      "source": [
        "for num in range(1, 21):\r\n",
        "    if (num%3==0 and num%5==0):\r\n",
        "        print(\"FizzBuzz\")\r\n",
        "    elif (num%3==0):\r\n",
        "        print(\"Fizz\")\r\n",
        "    elif (num%5==0):\r\n",
        "        print(\"Buzz\")\r\n",
        "    else:\r\n",
        "        print(num)"
      ],
      "execution_count": 4,
      "outputs": [
        {
          "output_type": "stream",
          "text": [
            "1\n",
            "2\n",
            "Fizz\n",
            "4\n",
            "Buzz\n",
            "Fizz\n",
            "7\n",
            "8\n",
            "Fizz\n",
            "Buzz\n",
            "11\n",
            "Fizz\n",
            "13\n",
            "14\n",
            "FizzBuzz\n",
            "16\n",
            "17\n",
            "Fizz\n",
            "19\n",
            "Buzz\n"
          ],
          "name": "stdout"
        }
      ]
    },
    {
      "cell_type": "markdown",
      "metadata": {
        "id": "sLcdyPXd4NZL"
      },
      "source": [
        "And Voila! <br />\r\n",
        "This works!\r\n",
        "But there's a better way to do this.\r\n",
        "Instead of writing separate strings for all the 3 conditions, we can first check if the number is divisible by 3, then concatenate \"Fizz\" to an empty string, then we check if the number is divisible by 5. If it is, we simply concatinate the string with \"buzz\" <br />\r\n",
        "Lemme demonstrate.. "
      ]
    },
    {
      "cell_type": "code",
      "metadata": {
        "colab": {
          "base_uri": "https://localhost:8080/"
        },
        "id": "1TCBkzmf4ENe",
        "outputId": "d16c39a0-fd74-481b-fce0-fda1369d2082"
      },
      "source": [
        "for num in range(1, 21):\r\n",
        "    out=''\r\n",
        "    if (num%3==0):\r\n",
        "        out+=\"Fizz\"\r\n",
        "    if (num%5==0):\r\n",
        "        out+=\"Buzz\"\r\n",
        "    print(out or num)"
      ],
      "execution_count": 5,
      "outputs": [
        {
          "output_type": "stream",
          "text": [
            "1\n",
            "2\n",
            "Fizz\n",
            "4\n",
            "Buzz\n",
            "Fizz\n",
            "7\n",
            "8\n",
            "Fizz\n",
            "Buzz\n",
            "11\n",
            "Fizz\n",
            "13\n",
            "14\n",
            "FizzBuzz\n",
            "16\n",
            "17\n",
            "Fizz\n",
            "19\n",
            "Buzz\n"
          ],
          "name": "stdout"
        }
      ]
    },
    {
      "cell_type": "markdown",
      "metadata": {
        "id": "NtacOAQPJn7N"
      },
      "source": [
        "To make it even even shorter, we'll make use of the ternary operators in python. <br />\r\n",
        "I'll attach a link to learn about this in the reference section below :)"
      ]
    },
    {
      "cell_type": "code",
      "metadata": {
        "colab": {
          "base_uri": "https://localhost:8080/"
        },
        "id": "3Jdd2uGaJnN7",
        "outputId": "5aa1021b-4912-4e7c-8b28-34ec87f8f5be"
      },
      "source": [
        "for num in range(1, 21):\r\n",
        "    output=''\r\n",
        "    output+='Fizz' if (num%3==0) else ''\r\n",
        "    output+='Buzz' if (num%5==0) else ''\r\n",
        "    print(num) if output=='' else print(output)"
      ],
      "execution_count": 9,
      "outputs": [
        {
          "output_type": "stream",
          "text": [
            "1\n",
            "2\n",
            "Fizz\n",
            "4\n",
            "Buzz\n",
            "Fizz\n",
            "7\n",
            "8\n",
            "Fizz\n",
            "Buzz\n",
            "11\n",
            "Fizz\n",
            "13\n",
            "14\n",
            "FizzBuzz\n",
            "16\n",
            "17\n",
            "Fizz\n",
            "19\n",
            "Buzz\n"
          ],
          "name": "stdout"
        }
      ]
    },
    {
      "cell_type": "markdown",
      "metadata": {
        "id": "4WHlFE2EKpaI"
      },
      "source": [
        "And finally, if we want to solve the problem with just one line of code, then :"
      ]
    },
    {
      "cell_type": "code",
      "metadata": {
        "colab": {
          "base_uri": "https://localhost:8080/"
        },
        "id": "eHvfjaneKvyn",
        "outputId": "92a38ec9-4017-4dd3-d3d1-1cb956d2a26b"
      },
      "source": [
        "for num in range(1, 21):\r\n",
        "    print('Fizz'*(num%3 < 1) + 'Buzz'*(num%5 < 1) or num)"
      ],
      "execution_count": 10,
      "outputs": [
        {
          "output_type": "stream",
          "text": [
            "1\n",
            "2\n",
            "Fizz\n",
            "4\n",
            "Buzz\n",
            "Fizz\n",
            "7\n",
            "8\n",
            "Fizz\n",
            "Buzz\n",
            "11\n",
            "Fizz\n",
            "13\n",
            "14\n",
            "FizzBuzz\n",
            "16\n",
            "17\n",
            "Fizz\n",
            "19\n",
            "Buzz\n"
          ],
          "name": "stdout"
        }
      ]
    },
    {
      "cell_type": "markdown",
      "metadata": {
        "id": "yBNyOXWRLMcK"
      },
      "source": [
        "To understand this, we'll divide the print statement into two parts, <br />\r\n",
        "- `'Fizz'*(num%3 < 1) + 'Buzz'*(num%5 < 1)` <br />\r\n",
        "- `num` <br />\r\n",
        "These two are divided by an OR. Therefore, if the first part is empty, the `print` statement would return the number.<br />\r\n",
        "Now we'll focus on the first part:<br />\r\n",
        "`'Fizz'*(num%3 < 1) + 'Buzz'*(num%5 < 1)` <br />\r\n",
        "If the number is divisible by 3, then the `(num%3 < 1)` would return a True, which is 1, and therefore 'Fizz' would be printed, else, the nothing. <br />\r\n",
        "If the number is divided by 5 also, then the `(num%5 < 1)` also becomes True and returns 1, therefore 'Buzz' is appended to 'Fizz'\r\n"
      ]
    },
    {
      "cell_type": "markdown",
      "metadata": {
        "id": "qpuV1A-I7Adp"
      },
      "source": [
        "## References and Additional Resources\r\n",
        "- [Python Programmer (YouTube)](https://youtu.be/jV0yhde5xY8)\r\n",
        "- [This new info about paranthesis on conditional statements in Python from StackOverflow that I found to be quite interesting](https://stackoverflow.com/questions/4740419/parentheses-in-python-conditionals#:~:text=Essentially%20the%20parentheses%20serve%20both,not%20even%20losing%20any%20efficiency.)\r\n",
        "- [Tom Scott (YouTube)](https://youtu.be/QPZ0pIK_wsc)"
      ]
    }
  ]
}