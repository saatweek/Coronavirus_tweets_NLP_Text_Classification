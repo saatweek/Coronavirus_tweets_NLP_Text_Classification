{
  "nbformat": 4,
  "nbformat_minor": 0,
  "metadata": {
    "colab": {
      "name": "Corona Tweets Classification (1D Convolutions).ipynb",
      "provenance": [],
      "authorship_tag": "ABX9TyMFP2IiCdOIlE06NJqDvkxf",
      "include_colab_link": true
    },
    "kernelspec": {
      "name": "python3",
      "display_name": "Python 3"
    },
    "accelerator": "GPU"
  },
  "cells": [
    {
      "cell_type": "markdown",
      "metadata": {
        "id": "view-in-github",
        "colab_type": "text"
      },
      "source": [
        "<a href=\"https://colab.research.google.com/github/saatweek/Coronavirus_tweets_NLP_Text_Classification/blob/master/Corona_Tweets_Classification_(1D_Convolutions).ipynb\" target=\"_parent\"><img src=\"https://colab.research.google.com/assets/colab-badge.svg\" alt=\"Open In Colab\"/></a>"
      ]
    },
    {
      "cell_type": "code",
      "metadata": {
        "id": "HltMB0UzctB9",
        "outputId": "5da02d69-f7b3-4971-c541-42531b50c20f",
        "colab": {
          "base_uri": "https://localhost:8080/"
        }
      },
      "source": [
        "#Mounting Google Drive to this colab notebook\n",
        "\n",
        "from google.colab import drive\n",
        "\n",
        "drive.mount('/content/drive')\n",
        "\n",
        "#importing all the dependencies\n",
        "\n",
        "import pandas as pd\n",
        "import numpy as np\n",
        "import tensorflow as tf\n",
        "from tensorflow.keras.preprocessing.text import Tokenizer\n",
        "from tensorflow.keras.preprocessing.sequence import pad_sequences\n",
        "\n",
        "#training file and test file paths\n",
        "\n",
        "train_csv_path = \"/content/drive/My Drive/Colab Notebooks/Personal Projects/Corona tweets/Corona_NLP_train.csv\"\n",
        "test_csv_path = '/content/drive/My Drive/Colab Notebooks/Personal Projects/Corona tweets/Corona_NLP_test.csv'\n",
        "\n",
        "#reading the training_file through pandas\n",
        "\n",
        "training_dataframe = pd.read_csv(train_csv_path, encoding = \"ISO-8859-1\")\n",
        "training_dataframe.dropna()\n",
        "testing_dataframe = pd.read_csv(test_csv_path)\n",
        "testing_dataframe.dropna()\n",
        "\n",
        "#making empty lists for storing traning and testing data\n",
        "\n",
        "training_sentences = []\n",
        "training_labels = []\n",
        "\n",
        "testing_sentences = []\n",
        "testing_labels = []\n",
        "\n",
        "#selecting the training sentences and appending each data to the previously created training_sentences list\n",
        "for sentences in training_dataframe.iloc[:, -2]:\n",
        "    training_sentences.append(sentences)\n",
        "\n",
        "for labels in training_dataframe.iloc[:, -1]:\n",
        "    labels = labels.replace(' ', '')\n",
        "    training_labels.append(labels)\n",
        "\n",
        "for sentences in testing_dataframe.iloc[:, -2]:\n",
        "    testing_sentences.append(sentences)\n",
        "\n",
        "for labels in testing_dataframe.iloc[:, -1]:\n",
        "    labels = labels.replace(' ', '')\n",
        "    testing_labels.append(labels)\n",
        "\n",
        "#Hyperparameters\n",
        "vocab_size = 10000\n",
        "oov_tok = '<OOV>'\n",
        "max_length = 64\n",
        "pad_type = 'post'\n",
        "trunc_type = 'pre'\n",
        "num_labels = 5\n",
        "embedding_dims = 16\n",
        "num_epochs = 20\n",
        "\n",
        "sentence_tokenizer = Tokenizer(num_words = vocab_size, oov_token = oov_tok)\n",
        "label_tokenizer = Tokenizer(num_words = num_labels, oov_token = oov_tok)\n",
        "\n",
        "sentence_tokenizer.fit_on_texts(training_sentences)\n",
        "label_tokenizer.fit_on_texts(training_labels)\n",
        "\n",
        "sentence_word_index = sentence_tokenizer.word_index\n",
        "label_word_index = label_tokenizer.word_index\n",
        "\n",
        "training_sequence = sentence_tokenizer.texts_to_sequences(training_sentences)\n",
        "testing_sequence = sentence_tokenizer.texts_to_sequences(testing_sentences)\n",
        "training_label_sequence = label_tokenizer.texts_to_sequences(training_labels)\n",
        "testing_label_sequence = label_tokenizer.texts_to_sequences(testing_labels)\n",
        "\n",
        "padded_training = pad_sequences(training_sequence, maxlen = max_length, padding = pad_type, truncating = trunc_type)\n",
        "padded_testing = pad_sequences(testing_sequence, maxlen = max_length, padding = pad_type, truncating = trunc_type)\n",
        "\n",
        "padded_training = np.array(padded_training)\n",
        "training_label_sequence = np.array(training_label_sequence)\n",
        "padded_testing = np.array(padded_testing)\n",
        "testing_label_sequence = np.array(testing_label_sequence)"
      ],
      "execution_count": null,
      "outputs": [
        {
          "output_type": "stream",
          "text": [
            "Mounted at /content/drive\n"
          ],
          "name": "stdout"
        }
      ]
    },
    {
      "cell_type": "code",
      "metadata": {
        "id": "_Yg_Sa5RdN38",
        "outputId": "a8060d70-4ab1-4828-e4c5-9eef42df0899",
        "colab": {
          "base_uri": "https://localhost:8080/"
        }
      },
      "source": [
        "model = tf.keras.models.Sequential([\n",
        "    tf.keras.layers.Embedding(vocab_size, embedding_dims),\n",
        "    tf.keras.layers.Conv1D(128, 5, activation='relu'),\n",
        "    tf.keras.layers.GlobalAveragePooling1D(),\n",
        "    tf.keras.layers.Dense(64, activation = 'relu'),\n",
        "    tf.keras.layers.Dense(5, activation = 'softmax')\n",
        "])\n",
        "\n",
        "model.compile(loss = 'sparse_categorical_crossentropy', optimizer = 'adam', metrics = ['accuracy'])\n",
        "\n",
        "history = model.fit(padded_training, training_label_sequence, \n",
        "                    validation_data = (padded_testing, testing_label_sequence), \n",
        "                    epochs = num_epochs)"
      ],
      "execution_count": null,
      "outputs": [
        {
          "output_type": "stream",
          "text": [
            "Epoch 1/20\n",
            "1287/1287 [==============================] - 6s 5ms/step - loss: 1.1920 - accuracy: 0.4496 - val_loss: 1.0635 - val_accuracy: 0.5461\n",
            "Epoch 2/20\n",
            "1287/1287 [==============================] - 6s 5ms/step - loss: 0.8956 - accuracy: 0.6285 - val_loss: 0.9176 - val_accuracy: 0.6177\n",
            "Epoch 3/20\n",
            "1287/1287 [==============================] - 6s 5ms/step - loss: 0.6625 - accuracy: 0.7432 - val_loss: 0.7894 - val_accuracy: 0.7009\n",
            "Epoch 4/20\n",
            "1287/1287 [==============================] - 6s 4ms/step - loss: 0.5308 - accuracy: 0.8107 - val_loss: 0.7840 - val_accuracy: 0.7122\n",
            "Epoch 5/20\n",
            "1287/1287 [==============================] - 6s 4ms/step - loss: 0.4564 - accuracy: 0.8445 - val_loss: 0.7690 - val_accuracy: 0.7254\n",
            "Epoch 6/20\n",
            "1287/1287 [==============================] - 6s 5ms/step - loss: 0.3990 - accuracy: 0.8648 - val_loss: 0.8239 - val_accuracy: 0.7209\n",
            "Epoch 7/20\n",
            "1287/1287 [==============================] - 6s 4ms/step - loss: 0.3502 - accuracy: 0.8839 - val_loss: 0.9338 - val_accuracy: 0.7067\n",
            "Epoch 8/20\n",
            "1287/1287 [==============================] - 6s 5ms/step - loss: 0.3060 - accuracy: 0.8983 - val_loss: 1.0033 - val_accuracy: 0.7059\n",
            "Epoch 9/20\n",
            "1287/1287 [==============================] - 6s 5ms/step - loss: 0.2688 - accuracy: 0.9127 - val_loss: 1.0694 - val_accuracy: 0.6964\n",
            "Epoch 10/20\n",
            "1287/1287 [==============================] - 6s 5ms/step - loss: 0.2346 - accuracy: 0.9250 - val_loss: 1.2094 - val_accuracy: 0.6991\n",
            "Epoch 11/20\n",
            "1287/1287 [==============================] - 6s 5ms/step - loss: 0.2014 - accuracy: 0.9378 - val_loss: 1.3662 - val_accuracy: 0.6798\n",
            "Epoch 12/20\n",
            "1287/1287 [==============================] - 6s 4ms/step - loss: 0.1747 - accuracy: 0.9459 - val_loss: 1.4550 - val_accuracy: 0.6780\n",
            "Epoch 13/20\n",
            "1287/1287 [==============================] - 6s 5ms/step - loss: 0.1496 - accuracy: 0.9544 - val_loss: 1.5866 - val_accuracy: 0.6743\n",
            "Epoch 14/20\n",
            "1287/1287 [==============================] - 6s 4ms/step - loss: 0.1299 - accuracy: 0.9619 - val_loss: 1.8165 - val_accuracy: 0.6732\n",
            "Epoch 15/20\n",
            "1287/1287 [==============================] - 6s 5ms/step - loss: 0.1101 - accuracy: 0.9664 - val_loss: 1.9342 - val_accuracy: 0.6738\n",
            "Epoch 16/20\n",
            "1287/1287 [==============================] - 6s 5ms/step - loss: 0.0954 - accuracy: 0.9717 - val_loss: 2.0259 - val_accuracy: 0.6635\n",
            "Epoch 17/20\n",
            "1287/1287 [==============================] - 6s 4ms/step - loss: 0.0788 - accuracy: 0.9768 - val_loss: 2.1833 - val_accuracy: 0.6640\n",
            "Epoch 18/20\n",
            "1287/1287 [==============================] - 6s 5ms/step - loss: 0.0698 - accuracy: 0.9794 - val_loss: 2.3478 - val_accuracy: 0.6509\n",
            "Epoch 19/20\n",
            "1287/1287 [==============================] - 6s 5ms/step - loss: 0.0598 - accuracy: 0.9828 - val_loss: 2.5123 - val_accuracy: 0.6514\n",
            "Epoch 20/20\n",
            "1287/1287 [==============================] - 6s 4ms/step - loss: 0.0500 - accuracy: 0.9859 - val_loss: 2.6927 - val_accuracy: 0.6496\n"
          ],
          "name": "stdout"
        }
      ]
    },
    {
      "cell_type": "code",
      "metadata": {
        "id": "fkg6aGe5dmaL",
        "outputId": "3db4f03a-ea4a-4281-b1c7-fb4d5000f463",
        "colab": {
          "base_uri": "https://localhost:8080/",
          "height": 542
        }
      },
      "source": [
        "import plotly.graph_objects as go\n",
        "\n",
        "fig = go.Figure()\n",
        "x = np.linspace(1,100, 100)\n",
        "y1 = history.history['accuracy']\n",
        "y2 = history.history['val_accuracy']\n",
        "fig.add_trace(go.Scatter(x = x, y = y1, name = 'accuracy')),\n",
        "fig.add_trace(go.Scatter(x = x, y = y2, name = 'val_accuracy', ))\n",
        "fig.update_layout(xaxis_title = 'Epochs', yaxis_title = 'accuracy', title = 'Accuracy of Model')\n",
        "fig.show()"
      ],
      "execution_count": null,
      "outputs": [
        {
          "output_type": "display_data",
          "data": {
            "text/html": [
              "<html>\n",
              "<head><meta charset=\"utf-8\" /></head>\n",
              "<body>\n",
              "    <div>\n",
              "            <script src=\"https://cdnjs.cloudflare.com/ajax/libs/mathjax/2.7.5/MathJax.js?config=TeX-AMS-MML_SVG\"></script><script type=\"text/javascript\">if (window.MathJax) {MathJax.Hub.Config({SVG: {font: \"STIX-Web\"}});}</script>\n",
              "                <script type=\"text/javascript\">window.PlotlyConfig = {MathJaxConfig: 'local'};</script>\n",
              "        <script src=\"https://cdn.plot.ly/plotly-latest.min.js\"></script>    \n",
              "            <div id=\"bfc8e035-e646-48a7-9905-9490ffaf2e06\" class=\"plotly-graph-div\" style=\"height:525px; width:100%;\"></div>\n",
              "            <script type=\"text/javascript\">\n",
              "                \n",
              "                    window.PLOTLYENV=window.PLOTLYENV || {};\n",
              "                    \n",
              "                if (document.getElementById(\"bfc8e035-e646-48a7-9905-9490ffaf2e06\")) {\n",
              "                    Plotly.newPlot(\n",
              "                        'bfc8e035-e646-48a7-9905-9490ffaf2e06',\n",
              "                        [{\"name\": \"accuracy\", \"type\": \"scatter\", \"x\": [1.0, 2.0, 3.0, 4.0, 5.0, 6.0, 7.0, 8.0, 9.0, 10.0, 11.0, 12.0, 13.0, 14.0, 15.0, 16.0, 17.0, 18.0, 19.0, 20.0, 21.0, 22.0, 23.0, 24.0, 25.0, 26.0, 27.0, 28.0, 29.0, 30.0, 31.0, 32.0, 33.0, 34.0, 35.0, 36.0, 37.0, 38.0, 39.0, 40.0, 41.0, 42.0, 43.0, 44.0, 45.0, 46.0, 47.0, 48.0, 49.0, 50.0, 51.0, 52.0, 53.0, 54.0, 55.0, 56.0, 57.0, 58.0, 59.0, 60.0, 61.0, 62.0, 63.0, 64.0, 65.0, 66.0, 67.0, 68.0, 69.0, 70.0, 71.0, 72.0, 73.0, 74.0, 75.0, 76.0, 77.0, 78.0, 79.0, 80.0, 81.0, 82.0, 83.0, 84.0, 85.0, 86.0, 87.0, 88.0, 89.0, 90.0, 91.0, 92.0, 93.0, 94.0, 95.0, 96.0, 97.0, 98.0, 99.0, 100.0], \"y\": [0.4496440589427948, 0.6285200715065002, 0.7431785464286804, 0.8107490539550781, 0.8444736003875732, 0.8648103475570679, 0.883859395980835, 0.8982918858528137, 0.912651538848877, 0.925018846988678, 0.9377505779266357, 0.9459387063980103, 0.9543941617012024, 0.961926281452179, 0.9664455652236938, 0.9717180728912354, 0.9768204689025879, 0.9794202446937561, 0.9827733039855957, 0.985931932926178]}, {\"name\": \"val_accuracy\", \"type\": \"scatter\", \"x\": [1.0, 2.0, 3.0, 4.0, 5.0, 6.0, 7.0, 8.0, 9.0, 10.0, 11.0, 12.0, 13.0, 14.0, 15.0, 16.0, 17.0, 18.0, 19.0, 20.0, 21.0, 22.0, 23.0, 24.0, 25.0, 26.0, 27.0, 28.0, 29.0, 30.0, 31.0, 32.0, 33.0, 34.0, 35.0, 36.0, 37.0, 38.0, 39.0, 40.0, 41.0, 42.0, 43.0, 44.0, 45.0, 46.0, 47.0, 48.0, 49.0, 50.0, 51.0, 52.0, 53.0, 54.0, 55.0, 56.0, 57.0, 58.0, 59.0, 60.0, 61.0, 62.0, 63.0, 64.0, 65.0, 66.0, 67.0, 68.0, 69.0, 70.0, 71.0, 72.0, 73.0, 74.0, 75.0, 76.0, 77.0, 78.0, 79.0, 80.0, 81.0, 82.0, 83.0, 84.0, 85.0, 86.0, 87.0, 88.0, 89.0, 90.0, 91.0, 92.0, 93.0, 94.0, 95.0, 96.0, 97.0, 98.0, 99.0, 100.0], \"y\": [0.5460768938064575, 0.6176935434341431, 0.7008951902389526, 0.7122169733047485, 0.7253817915916443, 0.7209057211875916, 0.7066877484321594, 0.705897867679596, 0.6964191794395447, 0.6990521550178528, 0.6798315048217773, 0.6779884099960327, 0.6743022799491882, 0.6732490658760071, 0.6737756729125977, 0.6635071039199829, 0.6640337109565735, 0.6508688926696777, 0.6513954997062683, 0.6495524048805237]}],\n",
              "                        {\"template\": {\"data\": {\"bar\": [{\"error_x\": {\"color\": \"#2a3f5f\"}, \"error_y\": {\"color\": \"#2a3f5f\"}, \"marker\": {\"line\": {\"color\": \"#E5ECF6\", \"width\": 0.5}}, \"type\": \"bar\"}], \"barpolar\": [{\"marker\": {\"line\": {\"color\": \"#E5ECF6\", \"width\": 0.5}}, \"type\": \"barpolar\"}], \"carpet\": [{\"aaxis\": {\"endlinecolor\": \"#2a3f5f\", \"gridcolor\": \"white\", \"linecolor\": \"white\", \"minorgridcolor\": \"white\", \"startlinecolor\": \"#2a3f5f\"}, \"baxis\": {\"endlinecolor\": \"#2a3f5f\", \"gridcolor\": \"white\", \"linecolor\": \"white\", \"minorgridcolor\": \"white\", \"startlinecolor\": \"#2a3f5f\"}, \"type\": \"carpet\"}], \"choropleth\": [{\"colorbar\": {\"outlinewidth\": 0, \"ticks\": \"\"}, \"type\": \"choropleth\"}], \"contour\": [{\"colorbar\": {\"outlinewidth\": 0, \"ticks\": \"\"}, \"colorscale\": [[0.0, \"#0d0887\"], [0.1111111111111111, \"#46039f\"], [0.2222222222222222, \"#7201a8\"], [0.3333333333333333, \"#9c179e\"], [0.4444444444444444, \"#bd3786\"], [0.5555555555555556, \"#d8576b\"], [0.6666666666666666, \"#ed7953\"], [0.7777777777777778, \"#fb9f3a\"], [0.8888888888888888, \"#fdca26\"], [1.0, \"#f0f921\"]], \"type\": \"contour\"}], \"contourcarpet\": [{\"colorbar\": {\"outlinewidth\": 0, \"ticks\": \"\"}, \"type\": \"contourcarpet\"}], \"heatmap\": [{\"colorbar\": {\"outlinewidth\": 0, \"ticks\": \"\"}, \"colorscale\": [[0.0, \"#0d0887\"], [0.1111111111111111, \"#46039f\"], [0.2222222222222222, \"#7201a8\"], [0.3333333333333333, \"#9c179e\"], [0.4444444444444444, \"#bd3786\"], [0.5555555555555556, \"#d8576b\"], [0.6666666666666666, \"#ed7953\"], [0.7777777777777778, \"#fb9f3a\"], [0.8888888888888888, \"#fdca26\"], [1.0, \"#f0f921\"]], \"type\": \"heatmap\"}], \"heatmapgl\": [{\"colorbar\": {\"outlinewidth\": 0, \"ticks\": \"\"}, \"colorscale\": [[0.0, \"#0d0887\"], [0.1111111111111111, \"#46039f\"], [0.2222222222222222, \"#7201a8\"], [0.3333333333333333, \"#9c179e\"], [0.4444444444444444, \"#bd3786\"], [0.5555555555555556, \"#d8576b\"], [0.6666666666666666, \"#ed7953\"], [0.7777777777777778, \"#fb9f3a\"], [0.8888888888888888, \"#fdca26\"], [1.0, \"#f0f921\"]], \"type\": \"heatmapgl\"}], \"histogram\": [{\"marker\": {\"colorbar\": {\"outlinewidth\": 0, \"ticks\": \"\"}}, \"type\": \"histogram\"}], \"histogram2d\": [{\"colorbar\": {\"outlinewidth\": 0, \"ticks\": \"\"}, \"colorscale\": [[0.0, \"#0d0887\"], [0.1111111111111111, \"#46039f\"], [0.2222222222222222, \"#7201a8\"], [0.3333333333333333, \"#9c179e\"], [0.4444444444444444, \"#bd3786\"], [0.5555555555555556, \"#d8576b\"], [0.6666666666666666, \"#ed7953\"], [0.7777777777777778, \"#fb9f3a\"], [0.8888888888888888, \"#fdca26\"], [1.0, \"#f0f921\"]], \"type\": \"histogram2d\"}], \"histogram2dcontour\": [{\"colorbar\": {\"outlinewidth\": 0, \"ticks\": \"\"}, \"colorscale\": [[0.0, \"#0d0887\"], [0.1111111111111111, \"#46039f\"], [0.2222222222222222, \"#7201a8\"], [0.3333333333333333, \"#9c179e\"], [0.4444444444444444, \"#bd3786\"], [0.5555555555555556, \"#d8576b\"], [0.6666666666666666, \"#ed7953\"], [0.7777777777777778, \"#fb9f3a\"], [0.8888888888888888, \"#fdca26\"], [1.0, \"#f0f921\"]], \"type\": \"histogram2dcontour\"}], \"mesh3d\": [{\"colorbar\": {\"outlinewidth\": 0, \"ticks\": \"\"}, \"type\": \"mesh3d\"}], \"parcoords\": [{\"line\": {\"colorbar\": {\"outlinewidth\": 0, \"ticks\": \"\"}}, \"type\": \"parcoords\"}], \"pie\": [{\"automargin\": true, \"type\": \"pie\"}], \"scatter\": [{\"marker\": {\"colorbar\": {\"outlinewidth\": 0, \"ticks\": \"\"}}, \"type\": \"scatter\"}], \"scatter3d\": [{\"line\": {\"colorbar\": {\"outlinewidth\": 0, \"ticks\": \"\"}}, \"marker\": {\"colorbar\": {\"outlinewidth\": 0, \"ticks\": \"\"}}, \"type\": \"scatter3d\"}], \"scattercarpet\": [{\"marker\": {\"colorbar\": {\"outlinewidth\": 0, \"ticks\": \"\"}}, \"type\": \"scattercarpet\"}], \"scattergeo\": [{\"marker\": {\"colorbar\": {\"outlinewidth\": 0, \"ticks\": \"\"}}, \"type\": \"scattergeo\"}], \"scattergl\": [{\"marker\": {\"colorbar\": {\"outlinewidth\": 0, \"ticks\": \"\"}}, \"type\": \"scattergl\"}], \"scattermapbox\": [{\"marker\": {\"colorbar\": {\"outlinewidth\": 0, \"ticks\": \"\"}}, \"type\": \"scattermapbox\"}], \"scatterpolar\": [{\"marker\": {\"colorbar\": {\"outlinewidth\": 0, \"ticks\": \"\"}}, \"type\": \"scatterpolar\"}], \"scatterpolargl\": [{\"marker\": {\"colorbar\": {\"outlinewidth\": 0, \"ticks\": \"\"}}, \"type\": \"scatterpolargl\"}], \"scatterternary\": [{\"marker\": {\"colorbar\": {\"outlinewidth\": 0, \"ticks\": \"\"}}, \"type\": \"scatterternary\"}], \"surface\": [{\"colorbar\": {\"outlinewidth\": 0, \"ticks\": \"\"}, \"colorscale\": [[0.0, \"#0d0887\"], [0.1111111111111111, \"#46039f\"], [0.2222222222222222, \"#7201a8\"], [0.3333333333333333, \"#9c179e\"], [0.4444444444444444, \"#bd3786\"], [0.5555555555555556, \"#d8576b\"], [0.6666666666666666, \"#ed7953\"], [0.7777777777777778, \"#fb9f3a\"], [0.8888888888888888, \"#fdca26\"], [1.0, \"#f0f921\"]], \"type\": \"surface\"}], \"table\": [{\"cells\": {\"fill\": {\"color\": \"#EBF0F8\"}, \"line\": {\"color\": \"white\"}}, \"header\": {\"fill\": {\"color\": \"#C8D4E3\"}, \"line\": {\"color\": \"white\"}}, \"type\": \"table\"}]}, \"layout\": {\"annotationdefaults\": {\"arrowcolor\": \"#2a3f5f\", \"arrowhead\": 0, \"arrowwidth\": 1}, \"coloraxis\": {\"colorbar\": {\"outlinewidth\": 0, \"ticks\": \"\"}}, \"colorscale\": {\"diverging\": [[0, \"#8e0152\"], [0.1, \"#c51b7d\"], [0.2, \"#de77ae\"], [0.3, \"#f1b6da\"], [0.4, \"#fde0ef\"], [0.5, \"#f7f7f7\"], [0.6, \"#e6f5d0\"], [0.7, \"#b8e186\"], [0.8, \"#7fbc41\"], [0.9, \"#4d9221\"], [1, \"#276419\"]], \"sequential\": [[0.0, \"#0d0887\"], [0.1111111111111111, \"#46039f\"], [0.2222222222222222, \"#7201a8\"], [0.3333333333333333, \"#9c179e\"], [0.4444444444444444, \"#bd3786\"], [0.5555555555555556, \"#d8576b\"], [0.6666666666666666, \"#ed7953\"], [0.7777777777777778, \"#fb9f3a\"], [0.8888888888888888, \"#fdca26\"], [1.0, \"#f0f921\"]], \"sequentialminus\": [[0.0, \"#0d0887\"], [0.1111111111111111, \"#46039f\"], [0.2222222222222222, \"#7201a8\"], [0.3333333333333333, \"#9c179e\"], [0.4444444444444444, \"#bd3786\"], [0.5555555555555556, \"#d8576b\"], [0.6666666666666666, \"#ed7953\"], [0.7777777777777778, \"#fb9f3a\"], [0.8888888888888888, \"#fdca26\"], [1.0, \"#f0f921\"]]}, \"colorway\": [\"#636efa\", \"#EF553B\", \"#00cc96\", \"#ab63fa\", \"#FFA15A\", \"#19d3f3\", \"#FF6692\", \"#B6E880\", \"#FF97FF\", \"#FECB52\"], \"font\": {\"color\": \"#2a3f5f\"}, \"geo\": {\"bgcolor\": \"white\", \"lakecolor\": \"white\", \"landcolor\": \"#E5ECF6\", \"showlakes\": true, \"showland\": true, \"subunitcolor\": \"white\"}, \"hoverlabel\": {\"align\": \"left\"}, \"hovermode\": \"closest\", \"mapbox\": {\"style\": \"light\"}, \"paper_bgcolor\": \"white\", \"plot_bgcolor\": \"#E5ECF6\", \"polar\": {\"angularaxis\": {\"gridcolor\": \"white\", \"linecolor\": \"white\", \"ticks\": \"\"}, \"bgcolor\": \"#E5ECF6\", \"radialaxis\": {\"gridcolor\": \"white\", \"linecolor\": \"white\", \"ticks\": \"\"}}, \"scene\": {\"xaxis\": {\"backgroundcolor\": \"#E5ECF6\", \"gridcolor\": \"white\", \"gridwidth\": 2, \"linecolor\": \"white\", \"showbackground\": true, \"ticks\": \"\", \"zerolinecolor\": \"white\"}, \"yaxis\": {\"backgroundcolor\": \"#E5ECF6\", \"gridcolor\": \"white\", \"gridwidth\": 2, \"linecolor\": \"white\", \"showbackground\": true, \"ticks\": \"\", \"zerolinecolor\": \"white\"}, \"zaxis\": {\"backgroundcolor\": \"#E5ECF6\", \"gridcolor\": \"white\", \"gridwidth\": 2, \"linecolor\": \"white\", \"showbackground\": true, \"ticks\": \"\", \"zerolinecolor\": \"white\"}}, \"shapedefaults\": {\"line\": {\"color\": \"#2a3f5f\"}}, \"ternary\": {\"aaxis\": {\"gridcolor\": \"white\", \"linecolor\": \"white\", \"ticks\": \"\"}, \"baxis\": {\"gridcolor\": \"white\", \"linecolor\": \"white\", \"ticks\": \"\"}, \"bgcolor\": \"#E5ECF6\", \"caxis\": {\"gridcolor\": \"white\", \"linecolor\": \"white\", \"ticks\": \"\"}}, \"title\": {\"x\": 0.05}, \"xaxis\": {\"automargin\": true, \"gridcolor\": \"white\", \"linecolor\": \"white\", \"ticks\": \"\", \"title\": {\"standoff\": 15}, \"zerolinecolor\": \"white\", \"zerolinewidth\": 2}, \"yaxis\": {\"automargin\": true, \"gridcolor\": \"white\", \"linecolor\": \"white\", \"ticks\": \"\", \"title\": {\"standoff\": 15}, \"zerolinecolor\": \"white\", \"zerolinewidth\": 2}}}, \"title\": {\"text\": \"Accuracy of Model\"}, \"xaxis\": {\"title\": {\"text\": \"Epochs\"}}, \"yaxis\": {\"title\": {\"text\": \"accuracy\"}}},\n",
              "                        {\"responsive\": true}\n",
              "                    ).then(function(){\n",
              "                            \n",
              "var gd = document.getElementById('bfc8e035-e646-48a7-9905-9490ffaf2e06');\n",
              "var x = new MutationObserver(function (mutations, observer) {{\n",
              "        var display = window.getComputedStyle(gd).display;\n",
              "        if (!display || display === 'none') {{\n",
              "            console.log([gd, 'removed!']);\n",
              "            Plotly.purge(gd);\n",
              "            observer.disconnect();\n",
              "        }}\n",
              "}});\n",
              "\n",
              "// Listen for the removal of the full notebook cells\n",
              "var notebookContainer = gd.closest('#notebook-container');\n",
              "if (notebookContainer) {{\n",
              "    x.observe(notebookContainer, {childList: true});\n",
              "}}\n",
              "\n",
              "// Listen for the clearing of the current output cell\n",
              "var outputEl = gd.closest('.output');\n",
              "if (outputEl) {{\n",
              "    x.observe(outputEl, {childList: true});\n",
              "}}\n",
              "\n",
              "                        })\n",
              "                };\n",
              "                \n",
              "            </script>\n",
              "        </div>\n",
              "</body>\n",
              "</html>"
            ]
          },
          "metadata": {
            "tags": []
          }
        }
      ]
    },
    {
      "cell_type": "code",
      "metadata": {
        "id": "cHkSyW1mdoxR"
      },
      "source": [
        ""
      ],
      "execution_count": null,
      "outputs": []
    }
  ]
}