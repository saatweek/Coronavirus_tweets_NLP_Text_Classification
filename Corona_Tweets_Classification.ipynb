{
  "nbformat": 4,
  "nbformat_minor": 0,
  "metadata": {
    "colab": {
      "name": "Corona Tweets Classification.ipynb",
      "provenance": [],
      "collapsed_sections": [],
      "authorship_tag": "ABX9TyO4n54qRe9bqZow9WDXCM9F",
      "include_colab_link": true
    },
    "kernelspec": {
      "name": "python3",
      "display_name": "Python 3"
    },
    "accelerator": "GPU"
  },
  "cells": [
    {
      "cell_type": "markdown",
      "metadata": {
        "id": "view-in-github",
        "colab_type": "text"
      },
      "source": [
        "<a href=\"https://colab.research.google.com/github/saatweek/Coronavirus_tweets_NLP_Text_Classification/blob/master/Corona_Tweets_Classification.ipynb\" target=\"_parent\"><img src=\"https://colab.research.google.com/assets/colab-badge.svg\" alt=\"Open In Colab\"/></a>"
      ]
    },
    {
      "cell_type": "code",
      "metadata": {
        "id": "aoUgVUfPAhc0",
        "outputId": "897c8351-63cb-468c-b3a5-e3c1156af94c",
        "colab": {
          "base_uri": "https://localhost:8080/",
          "height": 35
        }
      },
      "source": [
        "#Mounting Google Drive to this colab notebook\n",
        "\n",
        "from google.colab import drive\n",
        "\n",
        "drive.mount('/content/drive')"
      ],
      "execution_count": 2,
      "outputs": [
        {
          "output_type": "stream",
          "text": [
            "Drive already mounted at /content/drive; to attempt to forcibly remount, call drive.mount(\"/content/drive\", force_remount=True).\n"
          ],
          "name": "stdout"
        }
      ]
    },
    {
      "cell_type": "code",
      "metadata": {
        "id": "OppfaXANA-ey"
      },
      "source": [
        "#importing all the dependencies\n",
        "\n",
        "import pandas as pd\n",
        "import numpy as np\n",
        "import tensorflow as tf\n",
        "from tensorflow.keras.preprocessing.text import Tokenizer\n",
        "from tensorflow.keras.preprocessing.sequence import pad_sequences"
      ],
      "execution_count": 3,
      "outputs": []
    },
    {
      "cell_type": "code",
      "metadata": {
        "id": "Xdq7pWdKBNpl"
      },
      "source": [
        "#training file and test file paths\n",
        "\n",
        "train_csv_path = \"/content/drive/My Drive/Colab Notebooks/Personal Projects/Corona tweets/Corona_NLP_train.csv\"\n",
        "test_csv_path = '/content/drive/My Drive/Colab Notebooks/Personal Projects/Corona tweets/Corona_NLP_test.csv'"
      ],
      "execution_count": 4,
      "outputs": []
    },
    {
      "cell_type": "code",
      "metadata": {
        "id": "DHnMvzAnBUpr",
        "outputId": "102611ab-2bc2-4984-ec49-52fa948d539b",
        "colab": {
          "base_uri": "https://localhost:8080/",
          "height": 219
        }
      },
      "source": [
        "#reading the training_file through pandas\n",
        "\n",
        "training_dataframe = pd.read_csv(train_csv_path, encoding = \"ISO-8859-1\")\n",
        "training_dataframe.dropna()\n",
        "testing_dataframe = pd.read_csv(test_csv_path)\n",
        "testing_dataframe.dropna()\n",
        "print(training_dataframe.shape)\n",
        "training_dataframe.head()"
      ],
      "execution_count": 5,
      "outputs": [
        {
          "output_type": "stream",
          "text": [
            "(41157, 6)\n"
          ],
          "name": "stdout"
        },
        {
          "output_type": "execute_result",
          "data": {
            "text/html": [
              "<div>\n",
              "<style scoped>\n",
              "    .dataframe tbody tr th:only-of-type {\n",
              "        vertical-align: middle;\n",
              "    }\n",
              "\n",
              "    .dataframe tbody tr th {\n",
              "        vertical-align: top;\n",
              "    }\n",
              "\n",
              "    .dataframe thead th {\n",
              "        text-align: right;\n",
              "    }\n",
              "</style>\n",
              "<table border=\"1\" class=\"dataframe\">\n",
              "  <thead>\n",
              "    <tr style=\"text-align: right;\">\n",
              "      <th></th>\n",
              "      <th>UserName</th>\n",
              "      <th>ScreenName</th>\n",
              "      <th>Location</th>\n",
              "      <th>TweetAt</th>\n",
              "      <th>OriginalTweet</th>\n",
              "      <th>Sentiment</th>\n",
              "    </tr>\n",
              "  </thead>\n",
              "  <tbody>\n",
              "    <tr>\n",
              "      <th>0</th>\n",
              "      <td>3799</td>\n",
              "      <td>48751</td>\n",
              "      <td>London</td>\n",
              "      <td>16-03-2020</td>\n",
              "      <td>@MeNyrbie @Phil_Gahan @Chrisitv https://t.co/i...</td>\n",
              "      <td>Neutral</td>\n",
              "    </tr>\n",
              "    <tr>\n",
              "      <th>1</th>\n",
              "      <td>3800</td>\n",
              "      <td>48752</td>\n",
              "      <td>UK</td>\n",
              "      <td>16-03-2020</td>\n",
              "      <td>advice Talk to your neighbours family to excha...</td>\n",
              "      <td>Positive</td>\n",
              "    </tr>\n",
              "    <tr>\n",
              "      <th>2</th>\n",
              "      <td>3801</td>\n",
              "      <td>48753</td>\n",
              "      <td>Vagabonds</td>\n",
              "      <td>16-03-2020</td>\n",
              "      <td>Coronavirus Australia: Woolworths to give elde...</td>\n",
              "      <td>Positive</td>\n",
              "    </tr>\n",
              "    <tr>\n",
              "      <th>3</th>\n",
              "      <td>3802</td>\n",
              "      <td>48754</td>\n",
              "      <td>NaN</td>\n",
              "      <td>16-03-2020</td>\n",
              "      <td>My food stock is not the only one which is emp...</td>\n",
              "      <td>Positive</td>\n",
              "    </tr>\n",
              "    <tr>\n",
              "      <th>4</th>\n",
              "      <td>3803</td>\n",
              "      <td>48755</td>\n",
              "      <td>NaN</td>\n",
              "      <td>16-03-2020</td>\n",
              "      <td>Me, ready to go at supermarket during the #COV...</td>\n",
              "      <td>Extremely Negative</td>\n",
              "    </tr>\n",
              "  </tbody>\n",
              "</table>\n",
              "</div>"
            ],
            "text/plain": [
              "   UserName  ...           Sentiment\n",
              "0      3799  ...             Neutral\n",
              "1      3800  ...            Positive\n",
              "2      3801  ...            Positive\n",
              "3      3802  ...            Positive\n",
              "4      3803  ...  Extremely Negative\n",
              "\n",
              "[5 rows x 6 columns]"
            ]
          },
          "metadata": {
            "tags": []
          },
          "execution_count": 5
        }
      ]
    },
    {
      "cell_type": "code",
      "metadata": {
        "id": "xUPd0anmBXQy",
        "outputId": "01837db1-e68e-4ff6-913d-a7ce69a5b6ac",
        "colab": {
          "base_uri": "https://localhost:8080/",
          "height": 219
        }
      },
      "source": [
        "print(testing_dataframe.shape)\n",
        "testing_dataframe.head()"
      ],
      "execution_count": 6,
      "outputs": [
        {
          "output_type": "stream",
          "text": [
            "(3798, 6)\n"
          ],
          "name": "stdout"
        },
        {
          "output_type": "execute_result",
          "data": {
            "text/html": [
              "<div>\n",
              "<style scoped>\n",
              "    .dataframe tbody tr th:only-of-type {\n",
              "        vertical-align: middle;\n",
              "    }\n",
              "\n",
              "    .dataframe tbody tr th {\n",
              "        vertical-align: top;\n",
              "    }\n",
              "\n",
              "    .dataframe thead th {\n",
              "        text-align: right;\n",
              "    }\n",
              "</style>\n",
              "<table border=\"1\" class=\"dataframe\">\n",
              "  <thead>\n",
              "    <tr style=\"text-align: right;\">\n",
              "      <th></th>\n",
              "      <th>UserName</th>\n",
              "      <th>ScreenName</th>\n",
              "      <th>Location</th>\n",
              "      <th>TweetAt</th>\n",
              "      <th>OriginalTweet</th>\n",
              "      <th>Sentiment</th>\n",
              "    </tr>\n",
              "  </thead>\n",
              "  <tbody>\n",
              "    <tr>\n",
              "      <th>0</th>\n",
              "      <td>1</td>\n",
              "      <td>44953</td>\n",
              "      <td>NYC</td>\n",
              "      <td>02-03-2020</td>\n",
              "      <td>TRENDING: New Yorkers encounter empty supermar...</td>\n",
              "      <td>Extremely Negative</td>\n",
              "    </tr>\n",
              "    <tr>\n",
              "      <th>1</th>\n",
              "      <td>2</td>\n",
              "      <td>44954</td>\n",
              "      <td>Seattle, WA</td>\n",
              "      <td>02-03-2020</td>\n",
              "      <td>When I couldn't find hand sanitizer at Fred Me...</td>\n",
              "      <td>Positive</td>\n",
              "    </tr>\n",
              "    <tr>\n",
              "      <th>2</th>\n",
              "      <td>3</td>\n",
              "      <td>44955</td>\n",
              "      <td>NaN</td>\n",
              "      <td>02-03-2020</td>\n",
              "      <td>Find out how you can protect yourself and love...</td>\n",
              "      <td>Extremely Positive</td>\n",
              "    </tr>\n",
              "    <tr>\n",
              "      <th>3</th>\n",
              "      <td>4</td>\n",
              "      <td>44956</td>\n",
              "      <td>Chicagoland</td>\n",
              "      <td>02-03-2020</td>\n",
              "      <td>#Panic buying hits #NewYork City as anxious sh...</td>\n",
              "      <td>Negative</td>\n",
              "    </tr>\n",
              "    <tr>\n",
              "      <th>4</th>\n",
              "      <td>5</td>\n",
              "      <td>44957</td>\n",
              "      <td>Melbourne, Victoria</td>\n",
              "      <td>03-03-2020</td>\n",
              "      <td>#toiletpaper #dunnypaper #coronavirus #coronav...</td>\n",
              "      <td>Neutral</td>\n",
              "    </tr>\n",
              "  </tbody>\n",
              "</table>\n",
              "</div>"
            ],
            "text/plain": [
              "   UserName  ...           Sentiment\n",
              "0         1  ...  Extremely Negative\n",
              "1         2  ...            Positive\n",
              "2         3  ...  Extremely Positive\n",
              "3         4  ...            Negative\n",
              "4         5  ...             Neutral\n",
              "\n",
              "[5 rows x 6 columns]"
            ]
          },
          "metadata": {
            "tags": []
          },
          "execution_count": 6
        }
      ]
    },
    {
      "cell_type": "code",
      "metadata": {
        "id": "6Z9dYDifC_Dp"
      },
      "source": [
        "training_sentences = []\n",
        "training_labels = []\n",
        "\n",
        "testing_sentences = []\n",
        "testing_labels = []"
      ],
      "execution_count": 7,
      "outputs": []
    },
    {
      "cell_type": "code",
      "metadata": {
        "id": "yV7Q0ebsEECk"
      },
      "source": [
        "for sentences in training_dataframe.iloc[:, -2]:\n",
        "    training_sentences.append(sentences)\n",
        "\n",
        "for labels in training_dataframe.iloc[:, -1]:\n",
        "    labels = labels.replace(' ', '')\n",
        "    training_labels.append(labels)\n",
        "\n",
        "for sentences in testing_dataframe.iloc[:, -2]:\n",
        "    testing_sentences.append(sentences)\n",
        "\n",
        "for labels in testing_dataframe.iloc[:, -1]:\n",
        "    labels = labels.replace(' ', '')\n",
        "    testing_labels.append(labels)"
      ],
      "execution_count": 8,
      "outputs": []
    },
    {
      "cell_type": "code",
      "metadata": {
        "id": "ECYxPN_iEGOm",
        "outputId": "0d561cfc-2fd4-4d4b-b6e8-2363b481bc4c",
        "colab": {
          "base_uri": "https://localhost:8080/",
          "height": 176
        }
      },
      "source": [
        "print('Training Sentences :', training_sentences[:5])\n",
        "print('Training Sentences Shape : ', len(training_sentences))\n",
        "print('Training Labels: ', training_labels[:5])\n",
        "print('Training Labels Shape : ', len(training_labels))\n",
        "print('Testing Sentences :', testing_sentences[:5])\n",
        "print('Testing Sentences Shape :', len(testing_sentences))\n",
        "print('Testing Labels : ', testing_labels[:5])\n",
        "print('Testing Labels Shape: ', len(testing_labels))"
      ],
      "execution_count": 9,
      "outputs": [
        {
          "output_type": "stream",
          "text": [
            "Training Sentences : ['@MeNyrbie @Phil_Gahan @Chrisitv https://t.co/iFz9FAn2Pa and https://t.co/xX6ghGFzCC and https://t.co/I2NlzdxNo8', 'advice Talk to your neighbours family to exchange phone numbers create contact list with phone numbers of neighbours schools employer chemist GP set up online shopping accounts if poss adequate supplies of regular meds but not over order', 'Coronavirus Australia: Woolworths to give elderly, disabled dedicated shopping hours amid COVID-19 outbreak https://t.co/bInCA9Vp8P', \"My food stock is not the only one which is empty...\\r\\r\\n\\r\\r\\nPLEASE, don't panic, THERE WILL BE ENOUGH FOOD FOR EVERYONE if you do not take more than you need. \\r\\r\\nStay calm, stay safe.\\r\\r\\n\\r\\r\\n#COVID19france #COVID_19 #COVID19 #coronavirus #confinement #Confinementotal #ConfinementGeneral https://t.co/zrlG0Z520j\", \"Me, ready to go at supermarket during the #COVID19 outbreak.\\r\\r\\n\\r\\r\\nNot because I'm paranoid, but because my food stock is litteraly empty. The #coronavirus is a serious thing, but please, don't panic. It causes shortage...\\r\\r\\n\\r\\r\\n#CoronavirusFrance #restezchezvous #StayAtHome #confinement https://t.co/usmuaLq72n\"]\n",
            "Training Sentences Shape :  41157\n",
            "Training Labels:  ['Neutral', 'Positive', 'Positive', 'Positive', 'ExtremelyNegative']\n",
            "Training Labels Shape :  41157\n",
            "Testing Sentences : ['TRENDING: New Yorkers encounter empty supermarket shelves (pictured, Wegmans in Brooklyn), sold-out online grocers (FoodKick, MaxDelivery) as #coronavirus-fearing shoppers stock up https://t.co/Gr76pcrLWh https://t.co/ivMKMsqdT1', \"When I couldn't find hand sanitizer at Fred Meyer, I turned to #Amazon. But $114.97 for a 2 pack of Purell??!!Check out how  #coronavirus concerns are driving up prices. https://t.co/ygbipBflMY\", 'Find out how you can protect yourself and loved ones from #coronavirus. ?', '#Panic buying hits #NewYork City as anxious shoppers stock up on food&amp;medical supplies after #healthcare worker in her 30s becomes #BigApple 1st confirmed #coronavirus patient OR a #Bloomberg staged event?\\r\\r\\n\\r\\r\\nhttps://t.co/IASiReGPC4\\r\\r\\n\\r\\r\\n#QAnon #QAnon2018 #QAnon2020 \\r\\r\\n#Election2020 #CDC https://t.co/29isZOewxu', '#toiletpaper #dunnypaper #coronavirus #coronavirusaustralia #CoronaVirusUpdate #Covid_19 #9News  #Corvid19 #7NewsMelb #dunnypapergate #Costco    One week everyone buying baby milk powder the next everyone buying up toilet paper. https://t.co/ScZryVvsIh']\n",
            "Testing Sentences Shape : 3798\n",
            "Testing Labels :  ['ExtremelyNegative', 'Positive', 'ExtremelyPositive', 'Negative', 'Neutral']\n",
            "Testing Labels Shape:  3798\n"
          ],
          "name": "stdout"
        }
      ]
    },
    {
      "cell_type": "code",
      "metadata": {
        "id": "9lhp0_5ZG5Vu"
      },
      "source": [
        "#Hyperparameters\n",
        "vocab_size = 10000\n",
        "oov_tok = '<OOV>'\n",
        "max_length = 64\n",
        "pad_type = 'post'\n",
        "trunc_type = 'pre'\n",
        "num_labels = 5\n",
        "embedding_dims = 16\n",
        "num_epochs = 100"
      ],
      "execution_count": 10,
      "outputs": []
    },
    {
      "cell_type": "code",
      "metadata": {
        "id": "LOLagM0FHEBG"
      },
      "source": [
        "sentence_tokenizer = Tokenizer(num_words = vocab_size, oov_token = oov_tok)\n",
        "label_tokenizer = Tokenizer(num_words = num_labels, oov_token = oov_tok)\n",
        "\n",
        "sentence_tokenizer.fit_on_texts(training_sentences)\n",
        "label_tokenizer.fit_on_texts(training_labels)\n",
        "\n",
        "sentence_word_index = sentence_tokenizer.word_index\n",
        "label_word_index = label_tokenizer.word_index"
      ],
      "execution_count": 11,
      "outputs": []
    },
    {
      "cell_type": "code",
      "metadata": {
        "id": "mr5BRdHTH-X6"
      },
      "source": [
        "training_sequence = sentence_tokenizer.texts_to_sequences(training_sentences)\n",
        "testing_sequence = sentence_tokenizer.texts_to_sequences(testing_sentences)\n",
        "training_label_sequence = label_tokenizer.texts_to_sequences(training_labels)\n",
        "testing_label_sequence = label_tokenizer.texts_to_sequences(testing_labels)\n",
        "\n",
        "padded_training = pad_sequences(training_sequence, maxlen = max_length, padding = pad_type, truncating = trunc_type)\n",
        "padded_testing = pad_sequences(testing_sequence, maxlen = max_length, padding = pad_type, truncating = trunc_type)"
      ],
      "execution_count": 12,
      "outputs": []
    },
    {
      "cell_type": "code",
      "metadata": {
        "id": "57X1qS88JwmL",
        "outputId": "a272b580-bed3-47e7-b375-1d053242a3aa",
        "colab": {
          "base_uri": "https://localhost:8080/",
          "height": 87
        }
      },
      "source": [
        "padded_training = np.array(padded_training)\n",
        "training_label_sequence = np.array(training_label_sequence)\n",
        "padded_testing = np.array(padded_testing)\n",
        "testing_label_sequence = np.array(testing_label_sequence)\n",
        "print(padded_training.shape)\n",
        "print(training_label_sequence.shape)\n",
        "print(padded_testing.shape)\n",
        "print(testing_label_sequence.shape)"
      ],
      "execution_count": 13,
      "outputs": [
        {
          "output_type": "stream",
          "text": [
            "(41157, 64)\n",
            "(41157, 1)\n",
            "(3798, 64)\n",
            "(3798, 1)\n"
          ],
          "name": "stdout"
        }
      ]
    },
    {
      "cell_type": "code",
      "metadata": {
        "id": "aWcdA7GTJdoL",
        "outputId": "44280760-a875-4b2d-aea4-aa9716b19029",
        "colab": {
          "base_uri": "https://localhost:8080/",
          "height": 1000
        }
      },
      "source": [
        "model = tf.keras.models.Sequential([\n",
        "    tf.keras.layers.Embedding(vocab_size, embedding_dims),\n",
        "    tf.keras.layers.GlobalAveragePooling1D(),\n",
        "    tf.keras.layers.Dense(16, activation = 'relu'),\n",
        "    tf.keras.layers.Dense(5, activation = 'softmax')\n",
        "])\n",
        "\n",
        "model.compile(loss = 'sparse_categorical_crossentropy', optimizer = 'adam', metrics = ['accuracy'])\n",
        "\n",
        "history = model.fit(padded_training, training_label_sequence, \n",
        "                    validation_data = (padded_testing, testing_label_sequence), \n",
        "                    epochs = num_epochs)"
      ],
      "execution_count": 14,
      "outputs": [
        {
          "output_type": "stream",
          "text": [
            "Epoch 1/100\n",
            "1287/1287 [==============================] - 8s 6ms/step - loss: 1.3496 - accuracy: 0.3465 - val_loss: 1.2579 - val_accuracy: 0.4042\n",
            "Epoch 2/100\n",
            "1287/1287 [==============================] - 7s 6ms/step - loss: 1.2134 - accuracy: 0.4432 - val_loss: 1.1802 - val_accuracy: 0.4650\n",
            "Epoch 3/100\n",
            "1287/1287 [==============================] - 7s 6ms/step - loss: 1.0946 - accuracy: 0.5335 - val_loss: 1.1227 - val_accuracy: 0.5026\n",
            "Epoch 4/100\n",
            "1287/1287 [==============================] - 7s 6ms/step - loss: 1.0023 - accuracy: 0.5880 - val_loss: 1.0983 - val_accuracy: 0.5353\n",
            "Epoch 5/100\n",
            "1287/1287 [==============================] - 7s 6ms/step - loss: 0.9365 - accuracy: 0.6218 - val_loss: 1.0879 - val_accuracy: 0.5448\n",
            "Epoch 6/100\n",
            "1287/1287 [==============================] - 7s 6ms/step - loss: 0.8846 - accuracy: 0.6482 - val_loss: 1.0898 - val_accuracy: 0.5305\n",
            "Epoch 7/100\n",
            "1287/1287 [==============================] - 7s 6ms/step - loss: 0.8406 - accuracy: 0.6656 - val_loss: 1.0872 - val_accuracy: 0.5387\n",
            "Epoch 8/100\n",
            "1287/1287 [==============================] - 7s 6ms/step - loss: 0.8013 - accuracy: 0.6833 - val_loss: 1.0760 - val_accuracy: 0.5627\n",
            "Epoch 9/100\n",
            "1287/1287 [==============================] - 8s 6ms/step - loss: 0.7634 - accuracy: 0.6991 - val_loss: 1.0706 - val_accuracy: 0.5666\n",
            "Epoch 10/100\n",
            "1287/1287 [==============================] - 8s 7ms/step - loss: 0.7257 - accuracy: 0.7184 - val_loss: 1.0598 - val_accuracy: 0.5735\n",
            "Epoch 11/100\n",
            "1287/1287 [==============================] - 8s 6ms/step - loss: 0.6869 - accuracy: 0.7380 - val_loss: 1.0490 - val_accuracy: 0.5879\n",
            "Epoch 12/100\n",
            "1287/1287 [==============================] - 7s 6ms/step - loss: 0.6455 - accuracy: 0.7606 - val_loss: 1.0449 - val_accuracy: 0.5900\n",
            "Epoch 13/100\n",
            "1287/1287 [==============================] - 7s 6ms/step - loss: 0.6063 - accuracy: 0.7789 - val_loss: 1.0362 - val_accuracy: 0.6080\n",
            "Epoch 14/100\n",
            "1287/1287 [==============================] - 7s 6ms/step - loss: 0.5674 - accuracy: 0.7990 - val_loss: 1.0333 - val_accuracy: 0.6135\n",
            "Epoch 15/100\n",
            "1287/1287 [==============================] - 7s 6ms/step - loss: 0.5317 - accuracy: 0.8154 - val_loss: 1.0463 - val_accuracy: 0.6174\n",
            "Epoch 16/100\n",
            "1287/1287 [==============================] - 7s 6ms/step - loss: 0.4997 - accuracy: 0.8315 - val_loss: 1.0418 - val_accuracy: 0.6248\n",
            "Epoch 17/100\n",
            "1287/1287 [==============================] - 7s 6ms/step - loss: 0.4706 - accuracy: 0.8454 - val_loss: 1.0651 - val_accuracy: 0.6285\n",
            "Epoch 18/100\n",
            "1287/1287 [==============================] - 7s 6ms/step - loss: 0.4438 - accuracy: 0.8573 - val_loss: 1.0774 - val_accuracy: 0.6306\n",
            "Epoch 19/100\n",
            "1287/1287 [==============================] - 7s 6ms/step - loss: 0.4195 - accuracy: 0.8694 - val_loss: 1.1064 - val_accuracy: 0.6285\n",
            "Epoch 20/100\n",
            "1287/1287 [==============================] - 7s 6ms/step - loss: 0.3975 - accuracy: 0.8778 - val_loss: 1.1187 - val_accuracy: 0.6369\n",
            "Epoch 21/100\n",
            "1287/1287 [==============================] - 7s 6ms/step - loss: 0.3772 - accuracy: 0.8864 - val_loss: 1.1505 - val_accuracy: 0.6345\n",
            "Epoch 22/100\n",
            "1287/1287 [==============================] - 7s 6ms/step - loss: 0.3581 - accuracy: 0.8946 - val_loss: 1.1708 - val_accuracy: 0.6327\n",
            "Epoch 23/100\n",
            "1287/1287 [==============================] - 7s 6ms/step - loss: 0.3415 - accuracy: 0.9005 - val_loss: 1.2083 - val_accuracy: 0.6303\n",
            "Epoch 24/100\n",
            "1287/1287 [==============================] - 7s 6ms/step - loss: 0.3244 - accuracy: 0.9064 - val_loss: 1.2206 - val_accuracy: 0.6301\n",
            "Epoch 25/100\n",
            "1287/1287 [==============================] - 7s 6ms/step - loss: 0.3085 - accuracy: 0.9135 - val_loss: 1.2691 - val_accuracy: 0.6251\n",
            "Epoch 26/100\n",
            "1287/1287 [==============================] - 8s 6ms/step - loss: 0.2938 - accuracy: 0.9175 - val_loss: 1.2892 - val_accuracy: 0.6282\n",
            "Epoch 27/100\n",
            "1287/1287 [==============================] - 8s 6ms/step - loss: 0.2802 - accuracy: 0.9235 - val_loss: 1.3454 - val_accuracy: 0.6288\n",
            "Epoch 28/100\n",
            "1287/1287 [==============================] - 7s 6ms/step - loss: 0.2654 - accuracy: 0.9290 - val_loss: 1.3575 - val_accuracy: 0.6240\n",
            "Epoch 29/100\n",
            "1287/1287 [==============================] - 7s 6ms/step - loss: 0.2544 - accuracy: 0.9314 - val_loss: 1.3955 - val_accuracy: 0.6248\n",
            "Epoch 30/100\n",
            "1287/1287 [==============================] - 7s 6ms/step - loss: 0.2423 - accuracy: 0.9358 - val_loss: 1.4509 - val_accuracy: 0.6248\n",
            "Epoch 31/100\n",
            "1287/1287 [==============================] - 7s 6ms/step - loss: 0.2309 - accuracy: 0.9398 - val_loss: 1.4913 - val_accuracy: 0.6251\n",
            "Epoch 32/100\n",
            "1287/1287 [==============================] - 7s 6ms/step - loss: 0.2209 - accuracy: 0.9441 - val_loss: 1.5347 - val_accuracy: 0.6222\n",
            "Epoch 33/100\n",
            "1287/1287 [==============================] - 7s 6ms/step - loss: 0.2103 - accuracy: 0.9474 - val_loss: 1.5563 - val_accuracy: 0.6201\n",
            "Epoch 34/100\n",
            "1287/1287 [==============================] - 7s 6ms/step - loss: 0.2006 - accuracy: 0.9489 - val_loss: 1.6289 - val_accuracy: 0.6219\n",
            "Epoch 35/100\n",
            "1287/1287 [==============================] - 7s 6ms/step - loss: 0.1909 - accuracy: 0.9535 - val_loss: 1.6481 - val_accuracy: 0.6222\n",
            "Epoch 36/100\n",
            "1287/1287 [==============================] - 7s 6ms/step - loss: 0.1822 - accuracy: 0.9560 - val_loss: 1.7005 - val_accuracy: 0.6180\n",
            "Epoch 37/100\n",
            "1287/1287 [==============================] - 7s 6ms/step - loss: 0.1747 - accuracy: 0.9582 - val_loss: 1.7426 - val_accuracy: 0.6156\n",
            "Epoch 38/100\n",
            "1287/1287 [==============================] - 7s 6ms/step - loss: 0.1641 - accuracy: 0.9617 - val_loss: 1.8061 - val_accuracy: 0.6182\n",
            "Epoch 39/100\n",
            "1287/1287 [==============================] - 7s 6ms/step - loss: 0.1568 - accuracy: 0.9624 - val_loss: 1.8450 - val_accuracy: 0.6137\n",
            "Epoch 40/100\n",
            "1287/1287 [==============================] - 7s 6ms/step - loss: 0.1490 - accuracy: 0.9649 - val_loss: 1.9183 - val_accuracy: 0.6106\n",
            "Epoch 41/100\n",
            "1287/1287 [==============================] - 7s 6ms/step - loss: 0.1413 - accuracy: 0.9675 - val_loss: 1.9751 - val_accuracy: 0.6111\n",
            "Epoch 42/100\n",
            "1287/1287 [==============================] - 7s 6ms/step - loss: 0.1342 - accuracy: 0.9690 - val_loss: 2.0320 - val_accuracy: 0.6132\n",
            "Epoch 43/100\n",
            "1287/1287 [==============================] - 7s 6ms/step - loss: 0.1271 - accuracy: 0.9711 - val_loss: 2.0845 - val_accuracy: 0.6116\n",
            "Epoch 44/100\n",
            "1287/1287 [==============================] - 7s 6ms/step - loss: 0.1202 - accuracy: 0.9733 - val_loss: 2.1577 - val_accuracy: 0.6137\n",
            "Epoch 45/100\n",
            "1287/1287 [==============================] - 7s 6ms/step - loss: 0.1138 - accuracy: 0.9756 - val_loss: 2.2392 - val_accuracy: 0.6040\n",
            "Epoch 46/100\n",
            "1287/1287 [==============================] - 7s 6ms/step - loss: 0.1080 - accuracy: 0.9767 - val_loss: 2.2842 - val_accuracy: 0.6048\n",
            "Epoch 47/100\n",
            "1287/1287 [==============================] - 7s 6ms/step - loss: 0.1015 - accuracy: 0.9790 - val_loss: 2.3521 - val_accuracy: 0.6019\n",
            "Epoch 48/100\n",
            "1287/1287 [==============================] - 7s 6ms/step - loss: 0.0958 - accuracy: 0.9808 - val_loss: 2.4146 - val_accuracy: 0.5985\n",
            "Epoch 49/100\n",
            "1287/1287 [==============================] - 7s 6ms/step - loss: 0.0916 - accuracy: 0.9817 - val_loss: 2.4648 - val_accuracy: 0.5977\n",
            "Epoch 50/100\n",
            "1287/1287 [==============================] - 7s 6ms/step - loss: 0.0857 - accuracy: 0.9837 - val_loss: 2.5297 - val_accuracy: 0.5974\n",
            "Epoch 51/100\n",
            "1287/1287 [==============================] - 8s 6ms/step - loss: 0.0807 - accuracy: 0.9846 - val_loss: 2.6190 - val_accuracy: 0.5958\n",
            "Epoch 52/100\n",
            "1287/1287 [==============================] - 8s 6ms/step - loss: 0.0763 - accuracy: 0.9853 - val_loss: 2.7104 - val_accuracy: 0.5990\n",
            "Epoch 53/100\n",
            "1287/1287 [==============================] - 7s 6ms/step - loss: 0.0710 - accuracy: 0.9870 - val_loss: 2.7508 - val_accuracy: 0.5969\n",
            "Epoch 54/100\n",
            "1287/1287 [==============================] - 7s 6ms/step - loss: 0.0681 - accuracy: 0.9867 - val_loss: 2.8119 - val_accuracy: 0.5914\n",
            "Epoch 55/100\n",
            "1287/1287 [==============================] - 7s 6ms/step - loss: 0.0636 - accuracy: 0.9882 - val_loss: 2.8792 - val_accuracy: 0.5887\n",
            "Epoch 56/100\n",
            "1287/1287 [==============================] - 7s 6ms/step - loss: 0.0603 - accuracy: 0.9888 - val_loss: 2.9594 - val_accuracy: 0.5911\n",
            "Epoch 57/100\n",
            "1287/1287 [==============================] - 7s 6ms/step - loss: 0.0557 - accuracy: 0.9909 - val_loss: 3.0200 - val_accuracy: 0.5911\n",
            "Epoch 58/100\n",
            "1287/1287 [==============================] - 7s 6ms/step - loss: 0.0529 - accuracy: 0.9912 - val_loss: 3.1233 - val_accuracy: 0.5885\n",
            "Epoch 59/100\n",
            "1287/1287 [==============================] - 7s 6ms/step - loss: 0.0500 - accuracy: 0.9911 - val_loss: 3.1686 - val_accuracy: 0.5874\n",
            "Epoch 60/100\n",
            "1287/1287 [==============================] - 7s 6ms/step - loss: 0.0468 - accuracy: 0.9920 - val_loss: 3.2584 - val_accuracy: 0.5872\n",
            "Epoch 61/100\n",
            "1287/1287 [==============================] - 7s 6ms/step - loss: 0.0443 - accuracy: 0.9929 - val_loss: 3.3215 - val_accuracy: 0.5874\n",
            "Epoch 62/100\n",
            "1287/1287 [==============================] - 7s 6ms/step - loss: 0.0412 - accuracy: 0.9932 - val_loss: 3.3854 - val_accuracy: 0.5850\n",
            "Epoch 63/100\n",
            "1287/1287 [==============================] - 7s 6ms/step - loss: 0.0393 - accuracy: 0.9932 - val_loss: 3.4595 - val_accuracy: 0.5858\n",
            "Epoch 64/100\n",
            "1287/1287 [==============================] - 7s 6ms/step - loss: 0.0367 - accuracy: 0.9939 - val_loss: 3.5467 - val_accuracy: 0.5864\n",
            "Epoch 65/100\n",
            "1287/1287 [==============================] - 7s 6ms/step - loss: 0.0341 - accuracy: 0.9945 - val_loss: 3.6117 - val_accuracy: 0.5819\n",
            "Epoch 66/100\n",
            "1287/1287 [==============================] - 7s 6ms/step - loss: 0.0326 - accuracy: 0.9950 - val_loss: 3.7047 - val_accuracy: 0.5843\n",
            "Epoch 67/100\n",
            "1287/1287 [==============================] - 8s 6ms/step - loss: 0.0307 - accuracy: 0.9949 - val_loss: 3.7720 - val_accuracy: 0.5808\n",
            "Epoch 68/100\n",
            "1287/1287 [==============================] - 8s 6ms/step - loss: 0.0291 - accuracy: 0.9951 - val_loss: 3.8385 - val_accuracy: 0.5816\n",
            "Epoch 69/100\n",
            "1287/1287 [==============================] - 7s 6ms/step - loss: 0.0268 - accuracy: 0.9956 - val_loss: 3.9252 - val_accuracy: 0.5850\n",
            "Epoch 70/100\n",
            "1287/1287 [==============================] - 7s 6ms/step - loss: 0.0252 - accuracy: 0.9961 - val_loss: 3.9599 - val_accuracy: 0.5821\n",
            "Epoch 71/100\n",
            "1287/1287 [==============================] - 7s 6ms/step - loss: 0.0240 - accuracy: 0.9962 - val_loss: 4.0567 - val_accuracy: 0.5829\n",
            "Epoch 72/100\n",
            "1287/1287 [==============================] - 7s 6ms/step - loss: 0.0227 - accuracy: 0.9965 - val_loss: 4.1286 - val_accuracy: 0.5793\n",
            "Epoch 73/100\n",
            "1287/1287 [==============================] - 7s 6ms/step - loss: 0.0206 - accuracy: 0.9968 - val_loss: 4.1940 - val_accuracy: 0.5837\n",
            "Epoch 74/100\n",
            "1287/1287 [==============================] - 7s 6ms/step - loss: 0.0198 - accuracy: 0.9969 - val_loss: 4.2681 - val_accuracy: 0.5811\n",
            "Epoch 75/100\n",
            "1287/1287 [==============================] - 7s 6ms/step - loss: 0.0188 - accuracy: 0.9972 - val_loss: 4.3353 - val_accuracy: 0.5758\n",
            "Epoch 76/100\n",
            "1287/1287 [==============================] - 7s 6ms/step - loss: 0.0182 - accuracy: 0.9968 - val_loss: 4.3906 - val_accuracy: 0.5753\n",
            "Epoch 77/100\n",
            "1287/1287 [==============================] - 7s 6ms/step - loss: 0.0165 - accuracy: 0.9975 - val_loss: 4.4334 - val_accuracy: 0.5756\n",
            "Epoch 78/100\n",
            "1287/1287 [==============================] - 7s 6ms/step - loss: 0.0164 - accuracy: 0.9970 - val_loss: 4.5428 - val_accuracy: 0.5771\n",
            "Epoch 79/100\n",
            "1287/1287 [==============================] - 7s 6ms/step - loss: 0.0146 - accuracy: 0.9980 - val_loss: 4.6408 - val_accuracy: 0.5745\n",
            "Epoch 80/100\n",
            "1287/1287 [==============================] - 7s 6ms/step - loss: 0.0139 - accuracy: 0.9977 - val_loss: 4.6707 - val_accuracy: 0.5737\n",
            "Epoch 81/100\n",
            "1287/1287 [==============================] - 7s 6ms/step - loss: 0.0138 - accuracy: 0.9975 - val_loss: 4.7520 - val_accuracy: 0.5753\n",
            "Epoch 82/100\n",
            "1287/1287 [==============================] - 7s 6ms/step - loss: 0.0127 - accuracy: 0.9977 - val_loss: 4.7696 - val_accuracy: 0.5753\n",
            "Epoch 83/100\n",
            "1287/1287 [==============================] - 7s 6ms/step - loss: 0.0123 - accuracy: 0.9981 - val_loss: 4.8762 - val_accuracy: 0.5761\n",
            "Epoch 84/100\n",
            "1287/1287 [==============================] - 7s 6ms/step - loss: 0.0116 - accuracy: 0.9981 - val_loss: 4.9077 - val_accuracy: 0.5732\n",
            "Epoch 85/100\n",
            "1287/1287 [==============================] - 7s 6ms/step - loss: 0.0111 - accuracy: 0.9983 - val_loss: 5.0223 - val_accuracy: 0.5756\n",
            "Epoch 86/100\n",
            "1287/1287 [==============================] - 7s 6ms/step - loss: 0.0102 - accuracy: 0.9983 - val_loss: 5.0527 - val_accuracy: 0.5698\n",
            "Epoch 87/100\n",
            "1287/1287 [==============================] - 7s 6ms/step - loss: 0.0100 - accuracy: 0.9982 - val_loss: 5.1199 - val_accuracy: 0.5740\n",
            "Epoch 88/100\n",
            "1287/1287 [==============================] - 7s 6ms/step - loss: 0.0091 - accuracy: 0.9985 - val_loss: 5.2116 - val_accuracy: 0.5771\n",
            "Epoch 89/100\n",
            "1287/1287 [==============================] - 7s 6ms/step - loss: 0.0092 - accuracy: 0.9984 - val_loss: 5.2256 - val_accuracy: 0.5766\n",
            "Epoch 90/100\n",
            "1287/1287 [==============================] - 7s 6ms/step - loss: 0.0087 - accuracy: 0.9986 - val_loss: 5.3172 - val_accuracy: 0.5745\n",
            "Epoch 91/100\n",
            "1287/1287 [==============================] - 8s 6ms/step - loss: 0.0079 - accuracy: 0.9987 - val_loss: 5.3667 - val_accuracy: 0.5777\n",
            "Epoch 92/100\n",
            "1287/1287 [==============================] - 7s 6ms/step - loss: 0.0092 - accuracy: 0.9983 - val_loss: 5.3879 - val_accuracy: 0.5756\n",
            "Epoch 93/100\n",
            "1287/1287 [==============================] - 8s 6ms/step - loss: 0.0077 - accuracy: 0.9986 - val_loss: 5.4841 - val_accuracy: 0.5766\n",
            "Epoch 94/100\n",
            "1287/1287 [==============================] - 8s 6ms/step - loss: 0.0071 - accuracy: 0.9988 - val_loss: 5.5045 - val_accuracy: 0.5779\n",
            "Epoch 95/100\n",
            "1287/1287 [==============================] - 7s 6ms/step - loss: 0.0071 - accuracy: 0.9988 - val_loss: 5.6133 - val_accuracy: 0.5750\n",
            "Epoch 96/100\n",
            "1287/1287 [==============================] - 7s 6ms/step - loss: 0.0064 - accuracy: 0.9988 - val_loss: 5.6622 - val_accuracy: 0.5708\n",
            "Epoch 97/100\n",
            "1287/1287 [==============================] - 7s 6ms/step - loss: 0.0062 - accuracy: 0.9990 - val_loss: 5.7142 - val_accuracy: 0.5761\n",
            "Epoch 98/100\n",
            "1287/1287 [==============================] - 7s 6ms/step - loss: 0.0070 - accuracy: 0.9986 - val_loss: 5.7292 - val_accuracy: 0.5771\n",
            "Epoch 99/100\n",
            "1287/1287 [==============================] - 7s 6ms/step - loss: 0.0058 - accuracy: 0.9988 - val_loss: 5.8030 - val_accuracy: 0.5732\n",
            "Epoch 100/100\n",
            "1287/1287 [==============================] - 7s 6ms/step - loss: 0.0057 - accuracy: 0.9988 - val_loss: 5.8316 - val_accuracy: 0.5756\n"
          ],
          "name": "stdout"
        }
      ]
    },
    {
      "cell_type": "code",
      "metadata": {
        "id": "m2Pj16KMaQo8",
        "outputId": "1c59c4fa-f7d5-4f9b-cc17-3ba2f4c764e6",
        "colab": {
          "base_uri": "https://localhost:8080/",
          "height": 542
        }
      },
      "source": [
        "import plotly.graph_objects as go\n",
        "\n",
        "fig = go.Figure()\n",
        "x = np.linspace(1,100, 100)\n",
        "y1 = history.history['accuracy']\n",
        "y2 = history.history['val_accuracy']\n",
        "fig.add_trace(go.Scatter(x = x, y = y1, name = 'accuracy')),\n",
        "fig.add_trace(go.Scatter(x = x, y = y2, name = 'val_accuracy', ))\n",
        "fig.update_layout(xaxis_title = 'Epochs', yaxis_title = 'accuracy', title = 'Accuracy of Model')\n",
        "fig.show()"
      ],
      "execution_count": 21,
      "outputs": [
        {
          "output_type": "display_data",
          "data": {
            "text/html": [
              "<html>\n",
              "<head><meta charset=\"utf-8\" /></head>\n",
              "<body>\n",
              "    <div>\n",
              "            <script src=\"https://cdnjs.cloudflare.com/ajax/libs/mathjax/2.7.5/MathJax.js?config=TeX-AMS-MML_SVG\"></script><script type=\"text/javascript\">if (window.MathJax) {MathJax.Hub.Config({SVG: {font: \"STIX-Web\"}});}</script>\n",
              "                <script type=\"text/javascript\">window.PlotlyConfig = {MathJaxConfig: 'local'};</script>\n",
              "        <script src=\"https://cdn.plot.ly/plotly-latest.min.js\"></script>    \n",
              "            <div id=\"b04882ff-c156-4425-9f7d-8e8d88b697c8\" class=\"plotly-graph-div\" style=\"height:525px; width:100%;\"></div>\n",
              "            <script type=\"text/javascript\">\n",
              "                \n",
              "                    window.PLOTLYENV=window.PLOTLYENV || {};\n",
              "                    \n",
              "                if (document.getElementById(\"b04882ff-c156-4425-9f7d-8e8d88b697c8\")) {\n",
              "                    Plotly.newPlot(\n",
              "                        'b04882ff-c156-4425-9f7d-8e8d88b697c8',\n",
              "                        [{\"name\": \"accuracy\", \"type\": \"scatter\", \"x\": [1.0, 2.0, 3.0, 4.0, 5.0, 6.0, 7.0, 8.0, 9.0, 10.0, 11.0, 12.0, 13.0, 14.0, 15.0, 16.0, 17.0, 18.0, 19.0, 20.0, 21.0, 22.0, 23.0, 24.0, 25.0, 26.0, 27.0, 28.0, 29.0, 30.0, 31.0, 32.0, 33.0, 34.0, 35.0, 36.0, 37.0, 38.0, 39.0, 40.0, 41.0, 42.0, 43.0, 44.0, 45.0, 46.0, 47.0, 48.0, 49.0, 50.0, 51.0, 52.0, 53.0, 54.0, 55.0, 56.0, 57.0, 58.0, 59.0, 60.0, 61.0, 62.0, 63.0, 64.0, 65.0, 66.0, 67.0, 68.0, 69.0, 70.0, 71.0, 72.0, 73.0, 74.0, 75.0, 76.0, 77.0, 78.0, 79.0, 80.0, 81.0, 82.0, 83.0, 84.0, 85.0, 86.0, 87.0, 88.0, 89.0, 90.0, 91.0, 92.0, 93.0, 94.0, 95.0, 96.0, 97.0, 98.0, 99.0, 100.0], \"y\": [0.34645381569862366, 0.4431566894054413, 0.5334693789482117, 0.5880408883094788, 0.6218383312225342, 0.6481764912605286, 0.6656461954116821, 0.6833345293998718, 0.6991034150123596, 0.7184439897537231, 0.7379789352416992, 0.7605510354042053, 0.7789197564125061, 0.7989649176597595, 0.8154141306877136, 0.8314502835273743, 0.8454211950302124, 0.8573268055915833, 0.8693782091140747, 0.8778336644172668, 0.8864105939865112, 0.8945501446723938, 0.9004543423652649, 0.9064314961433411, 0.9134533405303955, 0.917510986328125, 0.9235123991966248, 0.9290278553962708, 0.9313604235649109, 0.9357581734657288, 0.9398158192634583, 0.9440678358078003, 0.9473722577095032, 0.9488787055015564, 0.9534708261489868, 0.9559734463691711, 0.958184540271759, 0.9616590142250061, 0.9623636603355408, 0.9648662209510803, 0.9675389528274536, 0.9689967632293701, 0.9711349010467529, 0.9732973575592041, 0.9755570292472839, 0.9766746759414673, 0.9789586067199707, 0.9808294773101807, 0.9817284941673279, 0.9836722612380981, 0.9846441745758057, 0.98527592420578, 0.9870253205299377, 0.9866608381271362, 0.9882401823997498, 0.9888232946395874, 0.9908885359764099, 0.9911558032035828, 0.9911315441131592, 0.9919576048851013, 0.9929051995277405, 0.9931967854499817, 0.9931967854499817, 0.9938527941703796, 0.9944602251052856, 0.9949947595596313, 0.9948732852935791, 0.995140552520752, 0.9956265091896057, 0.9961124658584595, 0.9961610436439514, 0.9964526295661926, 0.9967684745788574, 0.9968656897544861, 0.9972301125526428, 0.9967927932739258, 0.9974730610847473, 0.9970357418060303, 0.9980076551437378, 0.9977160692214966, 0.997521698474884, 0.9976674914360046, 0.9980804920196533, 0.9980804920196533, 0.9982506036758423, 0.998347818851471, 0.9981533885002136, 0.9984692931175232, 0.9984449744224548, 0.9986393451690674, 0.9986879229545593, 0.9982991814613342, 0.9985664486885071, 0.9988094568252563, 0.998785138130188, 0.9988337159156799, 0.998955249786377, 0.9986393451690674, 0.9988337159156799, 0.9988094568252563]}, {\"name\": \"val_accuracy\", \"type\": \"scatter\", \"x\": [1.0, 2.0, 3.0, 4.0, 5.0, 6.0, 7.0, 8.0, 9.0, 10.0, 11.0, 12.0, 13.0, 14.0, 15.0, 16.0, 17.0, 18.0, 19.0, 20.0, 21.0, 22.0, 23.0, 24.0, 25.0, 26.0, 27.0, 28.0, 29.0, 30.0, 31.0, 32.0, 33.0, 34.0, 35.0, 36.0, 37.0, 38.0, 39.0, 40.0, 41.0, 42.0, 43.0, 44.0, 45.0, 46.0, 47.0, 48.0, 49.0, 50.0, 51.0, 52.0, 53.0, 54.0, 55.0, 56.0, 57.0, 58.0, 59.0, 60.0, 61.0, 62.0, 63.0, 64.0, 65.0, 66.0, 67.0, 68.0, 69.0, 70.0, 71.0, 72.0, 73.0, 74.0, 75.0, 76.0, 77.0, 78.0, 79.0, 80.0, 81.0, 82.0, 83.0, 84.0, 85.0, 86.0, 87.0, 88.0, 89.0, 90.0, 91.0, 92.0, 93.0, 94.0, 95.0, 96.0, 97.0, 98.0, 99.0, 100.0], \"y\": [0.4041600823402405, 0.4649815559387207, 0.5026329755783081, 0.5352817177772522, 0.5447604060173035, 0.5305423736572266, 0.5387045741081238, 0.5626645684242249, 0.566614031791687, 0.5734597444534302, 0.58794105052948, 0.5900474190711975, 0.6079515814781189, 0.613480806350708, 0.6174302101135254, 0.6248025298118591, 0.6284886598587036, 0.6305950284004211, 0.6284886598587036, 0.6369141936302185, 0.6345444917678833, 0.6327013969421387, 0.6303317546844482, 0.6300684809684753, 0.625065803527832, 0.6282253861427307, 0.6287519931793213, 0.6240126490592957, 0.6248025298118591, 0.6248025298118591, 0.625065803527832, 0.622169554233551, 0.6200631856918335, 0.6219062805175781, 0.622169554233551, 0.617956817150116, 0.6155871748924255, 0.6182200908660889, 0.6137440800666809, 0.6105844974517822, 0.6111111044883728, 0.6132174730300903, 0.6116377115249634, 0.6137440800666809, 0.6040021181106567, 0.6047919988632202, 0.6018957495689392, 0.5984728932380676, 0.5976830124855042, 0.5974196791648865, 0.5958399176597595, 0.5989995002746582, 0.5968930721282959, 0.5913638472557068, 0.5887309312820435, 0.5911005735397339, 0.5911005735397339, 0.5884675979614258, 0.5874144434928894, 0.5871511101722717, 0.5874144434928894, 0.5850447416305542, 0.5858346223831177, 0.5863612294197083, 0.5818852186203003, 0.5842548608779907, 0.5808320045471191, 0.5816218852996826, 0.5850447416305542, 0.5821484923362732, 0.5829383730888367, 0.5792522430419922, 0.5837282538414001, 0.5810953378677368, 0.5758293867111206, 0.57530277967453, 0.5755661129951477, 0.5771458745002747, 0.5745128989219666, 0.5737230181694031, 0.57530277967453, 0.57530277967453, 0.5760926604270935, 0.5731964111328125, 0.5755661129951477, 0.5697735548019409, 0.573986291885376, 0.5771458745002747, 0.5766192674636841, 0.5745128989219666, 0.5776724815368652, 0.5755661129951477, 0.5766192674636841, 0.5779357552528381, 0.5750395059585571, 0.5708267688751221, 0.5760926604270935, 0.5771458745002747, 0.5731964111328125, 0.5755661129951477]}],\n",
              "                        {\"template\": {\"data\": {\"bar\": [{\"error_x\": {\"color\": \"#2a3f5f\"}, \"error_y\": {\"color\": \"#2a3f5f\"}, \"marker\": {\"line\": {\"color\": \"#E5ECF6\", \"width\": 0.5}}, \"type\": \"bar\"}], \"barpolar\": [{\"marker\": {\"line\": {\"color\": \"#E5ECF6\", \"width\": 0.5}}, \"type\": \"barpolar\"}], \"carpet\": [{\"aaxis\": {\"endlinecolor\": \"#2a3f5f\", \"gridcolor\": \"white\", \"linecolor\": \"white\", \"minorgridcolor\": \"white\", \"startlinecolor\": \"#2a3f5f\"}, \"baxis\": {\"endlinecolor\": \"#2a3f5f\", \"gridcolor\": \"white\", \"linecolor\": \"white\", \"minorgridcolor\": \"white\", \"startlinecolor\": \"#2a3f5f\"}, \"type\": \"carpet\"}], \"choropleth\": [{\"colorbar\": {\"outlinewidth\": 0, \"ticks\": \"\"}, \"type\": \"choropleth\"}], \"contour\": [{\"colorbar\": {\"outlinewidth\": 0, \"ticks\": \"\"}, \"colorscale\": [[0.0, \"#0d0887\"], [0.1111111111111111, \"#46039f\"], [0.2222222222222222, \"#7201a8\"], [0.3333333333333333, \"#9c179e\"], [0.4444444444444444, \"#bd3786\"], [0.5555555555555556, \"#d8576b\"], [0.6666666666666666, \"#ed7953\"], [0.7777777777777778, \"#fb9f3a\"], [0.8888888888888888, \"#fdca26\"], [1.0, \"#f0f921\"]], \"type\": \"contour\"}], \"contourcarpet\": [{\"colorbar\": {\"outlinewidth\": 0, \"ticks\": \"\"}, \"type\": \"contourcarpet\"}], \"heatmap\": [{\"colorbar\": {\"outlinewidth\": 0, \"ticks\": \"\"}, \"colorscale\": [[0.0, \"#0d0887\"], [0.1111111111111111, \"#46039f\"], [0.2222222222222222, \"#7201a8\"], [0.3333333333333333, \"#9c179e\"], [0.4444444444444444, \"#bd3786\"], [0.5555555555555556, \"#d8576b\"], [0.6666666666666666, \"#ed7953\"], [0.7777777777777778, \"#fb9f3a\"], [0.8888888888888888, \"#fdca26\"], [1.0, \"#f0f921\"]], \"type\": \"heatmap\"}], \"heatmapgl\": [{\"colorbar\": {\"outlinewidth\": 0, \"ticks\": \"\"}, \"colorscale\": [[0.0, \"#0d0887\"], [0.1111111111111111, \"#46039f\"], [0.2222222222222222, \"#7201a8\"], [0.3333333333333333, \"#9c179e\"], [0.4444444444444444, \"#bd3786\"], [0.5555555555555556, \"#d8576b\"], [0.6666666666666666, \"#ed7953\"], [0.7777777777777778, \"#fb9f3a\"], [0.8888888888888888, \"#fdca26\"], [1.0, \"#f0f921\"]], \"type\": \"heatmapgl\"}], \"histogram\": [{\"marker\": {\"colorbar\": {\"outlinewidth\": 0, \"ticks\": \"\"}}, \"type\": \"histogram\"}], \"histogram2d\": [{\"colorbar\": {\"outlinewidth\": 0, \"ticks\": \"\"}, \"colorscale\": [[0.0, \"#0d0887\"], [0.1111111111111111, \"#46039f\"], [0.2222222222222222, \"#7201a8\"], [0.3333333333333333, \"#9c179e\"], [0.4444444444444444, \"#bd3786\"], [0.5555555555555556, \"#d8576b\"], [0.6666666666666666, \"#ed7953\"], [0.7777777777777778, \"#fb9f3a\"], [0.8888888888888888, \"#fdca26\"], [1.0, \"#f0f921\"]], \"type\": \"histogram2d\"}], \"histogram2dcontour\": [{\"colorbar\": {\"outlinewidth\": 0, \"ticks\": \"\"}, \"colorscale\": [[0.0, \"#0d0887\"], [0.1111111111111111, \"#46039f\"], [0.2222222222222222, \"#7201a8\"], [0.3333333333333333, \"#9c179e\"], [0.4444444444444444, \"#bd3786\"], [0.5555555555555556, \"#d8576b\"], [0.6666666666666666, \"#ed7953\"], [0.7777777777777778, \"#fb9f3a\"], [0.8888888888888888, \"#fdca26\"], [1.0, \"#f0f921\"]], \"type\": \"histogram2dcontour\"}], \"mesh3d\": [{\"colorbar\": {\"outlinewidth\": 0, \"ticks\": \"\"}, \"type\": \"mesh3d\"}], \"parcoords\": [{\"line\": {\"colorbar\": {\"outlinewidth\": 0, \"ticks\": \"\"}}, \"type\": \"parcoords\"}], \"pie\": [{\"automargin\": true, \"type\": \"pie\"}], \"scatter\": [{\"marker\": {\"colorbar\": {\"outlinewidth\": 0, \"ticks\": \"\"}}, \"type\": \"scatter\"}], \"scatter3d\": [{\"line\": {\"colorbar\": {\"outlinewidth\": 0, \"ticks\": \"\"}}, \"marker\": {\"colorbar\": {\"outlinewidth\": 0, \"ticks\": \"\"}}, \"type\": \"scatter3d\"}], \"scattercarpet\": [{\"marker\": {\"colorbar\": {\"outlinewidth\": 0, \"ticks\": \"\"}}, \"type\": \"scattercarpet\"}], \"scattergeo\": [{\"marker\": {\"colorbar\": {\"outlinewidth\": 0, \"ticks\": \"\"}}, \"type\": \"scattergeo\"}], \"scattergl\": [{\"marker\": {\"colorbar\": {\"outlinewidth\": 0, \"ticks\": \"\"}}, \"type\": \"scattergl\"}], \"scattermapbox\": [{\"marker\": {\"colorbar\": {\"outlinewidth\": 0, \"ticks\": \"\"}}, \"type\": \"scattermapbox\"}], \"scatterpolar\": [{\"marker\": {\"colorbar\": {\"outlinewidth\": 0, \"ticks\": \"\"}}, \"type\": \"scatterpolar\"}], \"scatterpolargl\": [{\"marker\": {\"colorbar\": {\"outlinewidth\": 0, \"ticks\": \"\"}}, \"type\": \"scatterpolargl\"}], \"scatterternary\": [{\"marker\": {\"colorbar\": {\"outlinewidth\": 0, \"ticks\": \"\"}}, \"type\": \"scatterternary\"}], \"surface\": [{\"colorbar\": {\"outlinewidth\": 0, \"ticks\": \"\"}, \"colorscale\": [[0.0, \"#0d0887\"], [0.1111111111111111, \"#46039f\"], [0.2222222222222222, \"#7201a8\"], [0.3333333333333333, \"#9c179e\"], [0.4444444444444444, \"#bd3786\"], [0.5555555555555556, \"#d8576b\"], [0.6666666666666666, \"#ed7953\"], [0.7777777777777778, \"#fb9f3a\"], [0.8888888888888888, \"#fdca26\"], [1.0, \"#f0f921\"]], \"type\": \"surface\"}], \"table\": [{\"cells\": {\"fill\": {\"color\": \"#EBF0F8\"}, \"line\": {\"color\": \"white\"}}, \"header\": {\"fill\": {\"color\": \"#C8D4E3\"}, \"line\": {\"color\": \"white\"}}, \"type\": \"table\"}]}, \"layout\": {\"annotationdefaults\": {\"arrowcolor\": \"#2a3f5f\", \"arrowhead\": 0, \"arrowwidth\": 1}, \"coloraxis\": {\"colorbar\": {\"outlinewidth\": 0, \"ticks\": \"\"}}, \"colorscale\": {\"diverging\": [[0, \"#8e0152\"], [0.1, \"#c51b7d\"], [0.2, \"#de77ae\"], [0.3, \"#f1b6da\"], [0.4, \"#fde0ef\"], [0.5, \"#f7f7f7\"], [0.6, \"#e6f5d0\"], [0.7, \"#b8e186\"], [0.8, \"#7fbc41\"], [0.9, \"#4d9221\"], [1, \"#276419\"]], \"sequential\": [[0.0, \"#0d0887\"], [0.1111111111111111, \"#46039f\"], [0.2222222222222222, \"#7201a8\"], [0.3333333333333333, \"#9c179e\"], [0.4444444444444444, \"#bd3786\"], [0.5555555555555556, \"#d8576b\"], [0.6666666666666666, \"#ed7953\"], [0.7777777777777778, \"#fb9f3a\"], [0.8888888888888888, \"#fdca26\"], [1.0, \"#f0f921\"]], \"sequentialminus\": [[0.0, \"#0d0887\"], [0.1111111111111111, \"#46039f\"], [0.2222222222222222, \"#7201a8\"], [0.3333333333333333, \"#9c179e\"], [0.4444444444444444, \"#bd3786\"], [0.5555555555555556, \"#d8576b\"], [0.6666666666666666, \"#ed7953\"], [0.7777777777777778, \"#fb9f3a\"], [0.8888888888888888, \"#fdca26\"], [1.0, \"#f0f921\"]]}, \"colorway\": [\"#636efa\", \"#EF553B\", \"#00cc96\", \"#ab63fa\", \"#FFA15A\", \"#19d3f3\", \"#FF6692\", \"#B6E880\", \"#FF97FF\", \"#FECB52\"], \"font\": {\"color\": \"#2a3f5f\"}, \"geo\": {\"bgcolor\": \"white\", \"lakecolor\": \"white\", \"landcolor\": \"#E5ECF6\", \"showlakes\": true, \"showland\": true, \"subunitcolor\": \"white\"}, \"hoverlabel\": {\"align\": \"left\"}, \"hovermode\": \"closest\", \"mapbox\": {\"style\": \"light\"}, \"paper_bgcolor\": \"white\", \"plot_bgcolor\": \"#E5ECF6\", \"polar\": {\"angularaxis\": {\"gridcolor\": \"white\", \"linecolor\": \"white\", \"ticks\": \"\"}, \"bgcolor\": \"#E5ECF6\", \"radialaxis\": {\"gridcolor\": \"white\", \"linecolor\": \"white\", \"ticks\": \"\"}}, \"scene\": {\"xaxis\": {\"backgroundcolor\": \"#E5ECF6\", \"gridcolor\": \"white\", \"gridwidth\": 2, \"linecolor\": \"white\", \"showbackground\": true, \"ticks\": \"\", \"zerolinecolor\": \"white\"}, \"yaxis\": {\"backgroundcolor\": \"#E5ECF6\", \"gridcolor\": \"white\", \"gridwidth\": 2, \"linecolor\": \"white\", \"showbackground\": true, \"ticks\": \"\", \"zerolinecolor\": \"white\"}, \"zaxis\": {\"backgroundcolor\": \"#E5ECF6\", \"gridcolor\": \"white\", \"gridwidth\": 2, \"linecolor\": \"white\", \"showbackground\": true, \"ticks\": \"\", \"zerolinecolor\": \"white\"}}, \"shapedefaults\": {\"line\": {\"color\": \"#2a3f5f\"}}, \"ternary\": {\"aaxis\": {\"gridcolor\": \"white\", \"linecolor\": \"white\", \"ticks\": \"\"}, \"baxis\": {\"gridcolor\": \"white\", \"linecolor\": \"white\", \"ticks\": \"\"}, \"bgcolor\": \"#E5ECF6\", \"caxis\": {\"gridcolor\": \"white\", \"linecolor\": \"white\", \"ticks\": \"\"}}, \"title\": {\"x\": 0.05}, \"xaxis\": {\"automargin\": true, \"gridcolor\": \"white\", \"linecolor\": \"white\", \"ticks\": \"\", \"title\": {\"standoff\": 15}, \"zerolinecolor\": \"white\", \"zerolinewidth\": 2}, \"yaxis\": {\"automargin\": true, \"gridcolor\": \"white\", \"linecolor\": \"white\", \"ticks\": \"\", \"title\": {\"standoff\": 15}, \"zerolinecolor\": \"white\", \"zerolinewidth\": 2}}}, \"title\": {\"text\": \"Accuracy of Model\"}, \"xaxis\": {\"title\": {\"text\": \"Epochs\"}}, \"yaxis\": {\"title\": {\"text\": \"accuracy\"}}},\n",
              "                        {\"responsive\": true}\n",
              "                    ).then(function(){\n",
              "                            \n",
              "var gd = document.getElementById('b04882ff-c156-4425-9f7d-8e8d88b697c8');\n",
              "var x = new MutationObserver(function (mutations, observer) {{\n",
              "        var display = window.getComputedStyle(gd).display;\n",
              "        if (!display || display === 'none') {{\n",
              "            console.log([gd, 'removed!']);\n",
              "            Plotly.purge(gd);\n",
              "            observer.disconnect();\n",
              "        }}\n",
              "}});\n",
              "\n",
              "// Listen for the removal of the full notebook cells\n",
              "var notebookContainer = gd.closest('#notebook-container');\n",
              "if (notebookContainer) {{\n",
              "    x.observe(notebookContainer, {childList: true});\n",
              "}}\n",
              "\n",
              "// Listen for the clearing of the current output cell\n",
              "var outputEl = gd.closest('.output');\n",
              "if (outputEl) {{\n",
              "    x.observe(outputEl, {childList: true});\n",
              "}}\n",
              "\n",
              "                        })\n",
              "                };\n",
              "                \n",
              "            </script>\n",
              "        </div>\n",
              "</body>\n",
              "</html>"
            ]
          },
          "metadata": {
            "tags": []
          }
        }
      ]
    },
    {
      "cell_type": "code",
      "metadata": {
        "id": "20ZODJ9sxi4R"
      },
      "source": [
        ""
      ],
      "execution_count": null,
      "outputs": []
    }
  ]
}